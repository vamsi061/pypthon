{
 "cells": [
  {
   "cell_type": "markdown",
   "metadata": {},
   "source": [
    "## Dictionary\n",
    "- mutable\n",
    "- key,value - pair\n",
    "- key are in any data types like int,str,float\n",
    "- values are any data types and any  data structers like list/tuple/set/str/dict\n",
    "- keys must be unique in nature\n",
    "- key and value together called as item"
   ]
  },
  {
   "cell_type": "code",
   "execution_count": 4,
   "metadata": {},
   "outputs": [
    {
     "data": {
      "text/plain": [
       "dict"
      ]
     },
     "execution_count": 4,
     "metadata": {},
     "output_type": "execute_result"
    }
   ],
   "source": [
    "dec={\"college\":\"vamsi\"}\n",
    "type(dec)"
   ]
  },
  {
   "cell_type": "code",
   "execution_count": 8,
   "metadata": {},
   "outputs": [
    {
     "name": "stdout",
     "output_type": "stream",
     "text": [
      "{'key': 'value', 'string': 'name', 'integer': 12, 'float': 9.6, 123: 'int'}\n"
     ]
    }
   ],
   "source": [
    "dic={'key':'value','string':'name','integer':12,'float':9.6,123:'int'}\n",
    "print(dic)"
   ]
  },
  {
   "cell_type": "code",
   "execution_count": 9,
   "metadata": {},
   "outputs": [
    {
     "data": {
      "text/plain": [
       "['__class__',\n",
       " '__contains__',\n",
       " '__delattr__',\n",
       " '__delitem__',\n",
       " '__dir__',\n",
       " '__doc__',\n",
       " '__eq__',\n",
       " '__format__',\n",
       " '__ge__',\n",
       " '__getattribute__',\n",
       " '__getitem__',\n",
       " '__gt__',\n",
       " '__hash__',\n",
       " '__init__',\n",
       " '__init_subclass__',\n",
       " '__iter__',\n",
       " '__le__',\n",
       " '__len__',\n",
       " '__lt__',\n",
       " '__ne__',\n",
       " '__new__',\n",
       " '__reduce__',\n",
       " '__reduce_ex__',\n",
       " '__repr__',\n",
       " '__setattr__',\n",
       " '__setitem__',\n",
       " '__sizeof__',\n",
       " '__str__',\n",
       " '__subclasshook__',\n",
       " 'clear',\n",
       " 'copy',\n",
       " 'fromkeys',\n",
       " 'get',\n",
       " 'items',\n",
       " 'keys',\n",
       " 'pop',\n",
       " 'popitem',\n",
       " 'setdefault',\n",
       " 'update',\n",
       " 'values']"
      ]
     },
     "execution_count": 9,
     "metadata": {},
     "output_type": "execute_result"
    }
   ],
   "source": [
    "dir(dic)"
   ]
  },
  {
   "cell_type": "code",
   "execution_count": 11,
   "metadata": {},
   "outputs": [
    {
     "name": "stdout",
     "output_type": "stream",
     "text": [
      "['__class__', '__contains__', '__delattr__', '__delitem__', '__dir__', '__doc__', '__eq__', '__format__', '__ge__', '__getattribute__', '__getitem__', '__gt__', '__hash__', '__init__', '__init_subclass__', '__iter__', '__le__', '__len__', '__lt__', '__ne__', '__new__', '__reduce__', '__reduce_ex__', '__repr__', '__setattr__', '__setitem__', '__sizeof__', '__str__', '__subclasshook__', 'clear', 'copy', 'fromkeys', 'get', 'items', 'keys', 'pop', 'popitem', 'setdefault', 'update', 'values']\n"
     ]
    }
   ],
   "source": [
    "print(dir(dict))"
   ]
  },
  {
   "cell_type": "code",
   "execution_count": 12,
   "metadata": {},
   "outputs": [
    {
     "data": {
      "text/plain": [
       "{'key': 'value', 'string': 'name', 'integer': 12, 'float': 9.6, 123: 'int'}"
      ]
     },
     "execution_count": 12,
     "metadata": {},
     "output_type": "execute_result"
    }
   ],
   "source": [
    "dic1=dic.copy()\n",
    "dic1"
   ]
  },
  {
   "cell_type": "code",
   "execution_count": 14,
   "metadata": {},
   "outputs": [
    {
     "data": {
      "text/plain": [
       "{}"
      ]
     },
     "execution_count": 14,
     "metadata": {},
     "output_type": "execute_result"
    }
   ],
   "source": [
    "dic.clear()\n",
    "dic"
   ]
  },
  {
   "cell_type": "code",
   "execution_count": 22,
   "metadata": {},
   "outputs": [
    {
     "data": {
      "text/plain": [
       "'value'"
      ]
     },
     "execution_count": 22,
     "metadata": {},
     "output_type": "execute_result"
    }
   ],
   "source": [
    "dic1.get(\"key\")"
   ]
  },
  {
   "cell_type": "code",
   "execution_count": 23,
   "metadata": {},
   "outputs": [
    {
     "data": {
      "text/plain": [
       "'int'"
      ]
     },
     "execution_count": 23,
     "metadata": {},
     "output_type": "execute_result"
    }
   ],
   "source": [
    "dic1.get(123)"
   ]
  },
  {
   "cell_type": "code",
   "execution_count": 24,
   "metadata": {},
   "outputs": [
    {
     "data": {
      "text/plain": [
       "dict_items([('key', 'value'), ('string', 'name'), ('integer', 12), ('float', 9.6), (123, 'int')])"
      ]
     },
     "execution_count": 24,
     "metadata": {},
     "output_type": "execute_result"
    }
   ],
   "source": [
    "dic1.items()"
   ]
  },
  {
   "cell_type": "code",
   "execution_count": 25,
   "metadata": {},
   "outputs": [
    {
     "data": {
      "text/plain": [
       "dict_keys(['key', 'string', 'integer', 'float', 123])"
      ]
     },
     "execution_count": 25,
     "metadata": {},
     "output_type": "execute_result"
    }
   ],
   "source": [
    "dic1.keys()"
   ]
  },
  {
   "cell_type": "code",
   "execution_count": 26,
   "metadata": {},
   "outputs": [
    {
     "data": {
      "text/plain": [
       "dict_values(['value', 'name', 12, 9.6, 'int'])"
      ]
     },
     "execution_count": 26,
     "metadata": {},
     "output_type": "execute_result"
    }
   ],
   "source": [
    "dic1.values()"
   ]
  },
  {
   "cell_type": "code",
   "execution_count": 28,
   "metadata": {},
   "outputs": [
    {
     "data": {
      "text/plain": [
       "12"
      ]
     },
     "execution_count": 28,
     "metadata": {},
     "output_type": "execute_result"
    }
   ],
   "source": [
    "dic1.pop(\"integer\")"
   ]
  },
  {
   "cell_type": "code",
   "execution_count": 29,
   "metadata": {},
   "outputs": [
    {
     "data": {
      "text/plain": [
       "(123, 'int')"
      ]
     },
     "execution_count": 29,
     "metadata": {},
     "output_type": "execute_result"
    }
   ],
   "source": [
    "dic1.popitem()"
   ]
  },
  {
   "cell_type": "code",
   "execution_count": 30,
   "metadata": {},
   "outputs": [
    {
     "data": {
      "text/plain": [
       "{'key': 'value', 'string': 'name', 'float': 9.6}"
      ]
     },
     "execution_count": 30,
     "metadata": {},
     "output_type": "execute_result"
    }
   ],
   "source": [
    "dic1"
   ]
  },
  {
   "cell_type": "code",
   "execution_count": 42,
   "metadata": {},
   "outputs": [
    {
     "data": {
      "text/plain": [
       "{'key': 'value', 'string': 'name', 'float': 9.6, 12.3: 'abc', 21: 78, 71: 13}"
      ]
     },
     "execution_count": 42,
     "metadata": {},
     "output_type": "execute_result"
    }
   ],
   "source": [
    "dic1.update(({12.3:\"abc\",71:13}))\n",
    "dic1"
   ]
  },
  {
   "cell_type": "code",
   "execution_count": 43,
   "metadata": {},
   "outputs": [
    {
     "data": {
      "text/plain": [
       "{'key': 'value',\n",
       " 'string': 'name',\n",
       " 'float': 9.6,\n",
       " 12.3: 'abc',\n",
       " 21: 78,\n",
       " 71: 13,\n",
       " 1: ['int', 12, 34.6]}"
      ]
     },
     "execution_count": 43,
     "metadata": {},
     "output_type": "execute_result"
    }
   ],
   "source": [
    "dic1.update({1:[\"int\",12,34.6]})\n",
    "dic1"
   ]
  },
  {
   "cell_type": "code",
   "execution_count": 44,
   "metadata": {},
   "outputs": [
    {
     "data": {
      "text/plain": [
       "{'key': 'value',\n",
       " 'string': 'name',\n",
       " 'float': 9.6,\n",
       " 12.3: 'abc',\n",
       " 21: 78,\n",
       " 71: 13,\n",
       " 1: ['int', 12, 34.6],\n",
       " '23': 'apssdc'}"
      ]
     },
     "execution_count": 44,
     "metadata": {},
     "output_type": "execute_result"
    }
   ],
   "source": [
    "dic1[\"23\"]=\"apssdc\"\n",
    "dic1"
   ]
  },
  {
   "cell_type": "code",
   "execution_count": 46,
   "metadata": {},
   "outputs": [
    {
     "data": {
      "text/plain": [
       "{'key': 'value',\n",
       " 'string': 'vamsi',\n",
       " 'float': 9.6,\n",
       " 12.3: 'abc',\n",
       " 21: 78,\n",
       " 71: 13,\n",
       " 1: ['int', 12, 34.6],\n",
       " '23': 'apssdc'}"
      ]
     },
     "execution_count": 46,
     "metadata": {},
     "output_type": "execute_result"
    }
   ],
   "source": [
    "dic1[\"string\"]=\"vamsi\"\n",
    "dic1"
   ]
  },
  {
   "cell_type": "code",
   "execution_count": 47,
   "metadata": {},
   "outputs": [
    {
     "data": {
      "text/plain": [
       "{'key': None, 'string': None}"
      ]
     },
     "execution_count": 47,
     "metadata": {},
     "output_type": "execute_result"
    }
   ],
   "source": [
    "x=(\"key\",\"string\")\n",
    "dic1.fromkeys(x)"
   ]
  },
  {
   "cell_type": "code",
   "execution_count": 48,
   "metadata": {},
   "outputs": [
    {
     "data": {
      "text/plain": [
       "{'key': 'value',\n",
       " 'string': 'vamsi',\n",
       " 'float': 9.6,\n",
       " 12.3: 'abc',\n",
       " 21: 78,\n",
       " 71: 13,\n",
       " 1: ['int', 12, 34.6],\n",
       " '23': 'apssdc'}"
      ]
     },
     "execution_count": 48,
     "metadata": {},
     "output_type": "execute_result"
    }
   ],
   "source": [
    "dic1"
   ]
  },
  {
   "cell_type": "code",
   "execution_count": 53,
   "metadata": {},
   "outputs": [],
   "source": [
    "keys={\"a\",\"b\",\"c\",\"d\"}\n",
    "values={\"alp\"}\n",
    "v=dict.fromkeys(keys,values)"
   ]
  },
  {
   "cell_type": "code",
   "execution_count": 54,
   "metadata": {},
   "outputs": [
    {
     "data": {
      "text/plain": [
       "{'a': 'alp', 'd': 'alp', 'c': 'alp', 'b': 'alp'}"
      ]
     },
     "execution_count": 54,
     "metadata": {},
     "output_type": "execute_result"
    }
   ],
   "source": [
    "v"
   ]
  },
  {
   "cell_type": "code",
   "execution_count": 55,
   "metadata": {},
   "outputs": [
    {
     "name": "stdout",
     "output_type": "stream",
     "text": [
      "key\n",
      "string\n",
      "float\n",
      "12.3\n",
      "21\n",
      "71\n",
      "1\n",
      "23\n"
     ]
    }
   ],
   "source": [
    "for item in dic1.keys():\n",
    "    print(item)"
   ]
  },
  {
   "cell_type": "code",
   "execution_count": 57,
   "metadata": {},
   "outputs": [
    {
     "name": "stdout",
     "output_type": "stream",
     "text": [
      "('key', 'value')\n",
      "('string', 'vamsi')\n",
      "('float', 9.6)\n",
      "(12.3, 'abc')\n",
      "(21, 78)\n",
      "(71, 13)\n",
      "(1, ['int', 12, 34.6])\n",
      "('23', 'apssdc')\n"
     ]
    }
   ],
   "source": [
    "for item in dic1.items():\n",
    "    print(item)"
   ]
  },
  {
   "cell_type": "code",
   "execution_count": 63,
   "metadata": {},
   "outputs": [
    {
     "name": "stdout",
     "output_type": "stream",
     "text": [
      "key : alp\n",
      "string : alp\n",
      "float : alp\n",
      "12.3 : alp\n",
      "21 : alp\n",
      "71 : alp\n",
      "1 : alp\n",
      "23 : alp\n"
     ]
    }
   ],
   "source": [
    "for key,valu in dic1.items():\n",
    "    print(key,values,sep=\" : \")\n"
   ]
  },
  {
   "cell_type": "code",
   "execution_count": 3,
   "metadata": {},
   "outputs": [
    {
     "name": "stdout",
     "output_type": "stream",
     "text": [
      "15\n"
     ]
    },
    {
     "data": {
      "text/plain": [
       "{1: 1,\n",
       " 2: 4,\n",
       " 3: 9,\n",
       " 4: 16,\n",
       " 5: 25,\n",
       " 6: 36,\n",
       " 7: 49,\n",
       " 8: 64,\n",
       " 9: 81,\n",
       " 10: 100,\n",
       " 11: 121,\n",
       " 12: 144,\n",
       " 13: 169,\n",
       " 14: 196,\n",
       " 15: 225}"
      ]
     },
     "execution_count": 3,
     "metadata": {},
     "output_type": "execute_result"
    }
   ],
   "source": [
    "# prepare a dictonary  of squares values of members from 1 to 15\n",
    "# {1:1,2:4,3:9...............15:225}\n",
    "n=int(input())\n",
    "squ={}\n",
    "for square in range(1,n+1):\n",
    "    squ[square]=square**2\n",
    "squ"
   ]
  },
  {
   "cell_type": "code",
   "execution_count": 8,
   "metadata": {},
   "outputs": [
    {
     "data": {
      "text/plain": [
       "{'A': 65, '\\x01': 1}"
      ]
     },
     "execution_count": 8,
     "metadata": {},
     "output_type": "execute_result"
    }
   ],
   "source": [
    "\n",
    "d={}\n",
    "value=65\n",
    "for i in range(8):\n",
    "    d[chr(value)]=value\n",
    "    value=+1       \n",
    "d"
   ]
  },
  {
   "cell_type": "code",
   "execution_count": 9,
   "metadata": {},
   "outputs": [
    {
     "data": {
      "text/plain": [
       "{1: 4, 2: 2, 3: 3, 31: 2, 4: 2, 5: 1}"
      ]
     },
     "execution_count": 9,
     "metadata": {},
     "output_type": "execute_result"
    }
   ],
   "source": [
    "a=[1,2,3,1,2,31,4,5,3,1,4,3,1,31,]\n",
    "d={}\n",
    "for i in a:\n",
    "    if i not in d:\n",
    "        d[i]=1\n",
    "    else:\n",
    "        d[i]+=1\n",
    "d"
   ]
  },
  {
   "cell_type": "code",
   "execution_count": 11,
   "metadata": {},
   "outputs": [
    {
     "data": {
      "text/plain": [
       "{1: 4, 2: 2, 3: 3, 31: 2, 4: 2, 5: 1}"
      ]
     },
     "execution_count": 11,
     "metadata": {},
     "output_type": "execute_result"
    }
   ],
   "source": [
    "a=[1,2,3,1,2,31,4,5,3,1,4,3,1,31,]\n",
    "d={}\n",
    "for i in a:\n",
    "    d[i]=a.count(i)\n",
    "d"
   ]
  },
  {
   "cell_type": "markdown",
   "metadata": {},
   "source": [
    "## Packages and Modules"
   ]
  },
  {
   "cell_type": "code",
   "execution_count": 12,
   "metadata": {},
   "outputs": [
    {
     "name": "stdout",
     "output_type": "stream",
     "text": [
      "\n",
      "Please wait a moment while I gather a list of all available modules...\n",
      "\n"
     ]
    },
    {
     "name": "stderr",
     "output_type": "stream",
     "text": [
      "c:\\users\\user\\appdata\\local\\programs\\python\\python37\\lib\\site-packages\\IPython\\kernel\\__init__.py:13: ShimWarning: The `IPython.kernel` package has been deprecated since IPython 4.0.You should import from ipykernel or jupyter_client instead.\n",
      "  \"You should import from ipykernel or jupyter_client instead.\", ShimWarning)\n",
      "c:\\users\\user\\appdata\\local\\programs\\python\\python37\\lib\\pkgutil.py:107: VisibleDeprecationWarning: zmq.eventloop.minitornado is deprecated in pyzmq 14.0 and will be removed.\n",
      "    Install tornado itself to use zmq with the tornado IOLoop.\n",
      "    \n",
      "  yield from walk_packages(path, info.name+'.', onerror)\n"
     ]
    },
    {
     "name": "stdout",
     "output_type": "stream",
     "text": [
      "IPython             bz2                 mmsystem            symtable\n",
      "__future__          cProfile            modulefinder        sys\n",
      "_abc                calendar            msilib              sysconfig\n",
      "_ast                cffi                msvcrt              tabnanny\n",
      "_asyncio            cgi                 multiprocessing     tarfile\n",
      "_bisect             cgitb               nbclient            telnetlib\n",
      "_blake2             chunk               nbconvert           tempfile\n",
      "_bootlocale         cmath               nbformat            terminado\n",
      "_bz2                cmd                 nest_asyncio        test\n",
      "_cffi_backend       code                netbios             testpath\n",
      "_codecs             codecs              netrc               tests\n",
      "_codecs_cn          codeop              nntplib             textwrap\n",
      "_codecs_hk          collections         notebook            this\n",
      "_codecs_iso2022     colorama            nt                  threading\n",
      "_codecs_jp          colorsys            ntpath              time\n",
      "_codecs_kr          commctrl            ntsecuritycon       timeit\n",
      "_codecs_tw          compileall          nturl2path          timer\n",
      "_collections        concurrent          numbers             tkinter\n",
      "_collections_abc    configparser        odbc                token\n",
      "_compat_pickle      contextlib          opcode              tokenize\n",
      "_compression        contextvars         operator            tornado\n",
      "_contextvars        copy                optparse            trace\n",
      "_csv                copyreg             os                  traceback\n",
      "_ctypes             crypt               packaging           tracemalloc\n",
      "_ctypes_test        csv                 pandocfilters       traitlets\n",
      "_datetime           ctypes              parser              tty\n",
      "_decimal            curses              parso               turtle\n",
      "_dummy_thread       cythonmagic         pathlib             turtledemo\n",
      "_elementtree        dataclasses         pdb                 types\n",
      "_functools          datetime            perfmon             typing\n",
      "_hashlib            dateutil            pickle              unicodedata\n",
      "_heapq              dbi                 pickleshare         unittest\n",
      "_imp                dbm                 pickletools         urllib\n",
      "_io                 dde                 pip                 uu\n",
      "_json               decimal             pipes               uuid\n",
      "_locale             decorator           pkg_resources       venv\n",
      "_lsprof             defusedxml          pkgutil             warnings\n",
      "_lzma               difflib             platform            wave\n",
      "_markupbase         dis                 plistlib            wcwidth\n",
      "_md5                distutils           poplib              weakref\n",
      "_msi                doctest             posixpath           webbrowser\n",
      "_multibytecodec     dummy_threading     pprint              webencodings\n",
      "_multiprocessing    easy_install        profile             widgetsnbextension\n",
      "_opcode             email               prometheus_client   win2kras\n",
      "_operator           encodings           prompt_toolkit      win32api\n",
      "_osx_support        ensurepip           pstats              win32clipboard\n",
      "_overlapped         entrypoints         pty                 win32com\n",
      "_pickle             enum                py_compile          win32con\n",
      "_py_abc             errno               pyclbr              win32console\n",
      "_pydecimal          faulthandler        pycparser           win32cred\n",
      "_pyio               filecmp             pydoc               win32crypt\n",
      "_pyrsistent_version fileinput           pydoc_data          win32cryptcon\n",
      "_queue              fnmatch             pyexpat             win32event\n",
      "_random             formatter           pygments            win32evtlog\n",
      "_sha1               fractions           pyparsing           win32evtlogutil\n",
      "_sha256             ftplib              pyrsistent          win32file\n",
      "_sha3               functools           pythoncom           win32gui\n",
      "_sha512             gc                  pywin               win32gui_struct\n",
      "_signal             genericpath         pywin32_bootstrap   win32help\n",
      "_sitebuiltins       getopt              pywin32_testutil    win32inet\n",
      "_socket             getpass             pywintypes          win32inetcon\n",
      "_sqlite3            gettext             qtconsole           win32job\n",
      "_sre                glob                qtpy                win32lz\n",
      "_ssl                gzip                queue               win32net\n",
      "_stat               hashlib             quopri              win32netcon\n",
      "_string             heapq               random              win32pdh\n",
      "_strptime           hmac                rasutil             win32pdhquery\n",
      "_struct             html                re                  win32pdhutil\n",
      "_symtable           http                regcheck            win32pipe\n",
      "_testbuffer         idlelib             regutil             win32print\n",
      "_testcapi           imaplib             reprlib             win32process\n",
      "_testconsole        imghdr              rlcompleter         win32profile\n",
      "_testimportmultiple imp                 rmagic              win32ras\n",
      "_testmultiphase     importlib           runpy               win32rcparser\n",
      "_thread             importlib_metadata  sched               win32security\n",
      "_threading_local    inspect             secrets             win32service\n",
      "_tkinter            io                  select              win32serviceutil\n",
      "_tracemalloc        ipaddress           selectors           win32timezone\n",
      "_warnings           ipykernel           send2trash          win32trace\n",
      "_weakref            ipykernel_launcher  servicemanager      win32traceutil\n",
      "_weakrefset         ipython_genutils    setuptools          win32transaction\n",
      "_win32sysloader     ipywidgets          shelve              win32ts\n",
      "_winapi             isapi               shlex               win32ui\n",
      "_winxptheme         itertools           shutil              win32uiole\n",
      "abc                 jedi                signal              win32verstamp\n",
      "adodbapi            jinja2              site                win32wnet\n",
      "afxres              json                six                 winerror\n",
      "aifc                jsonschema          smtpd               winioctlcon\n",
      "antigravity         jupyter             smtplib             winnt\n",
      "argon2              jupyter_client      sndhdr              winperf\n",
      "argparse            jupyter_console     socket              winpty\n",
      "array               jupyter_core        socketserver        winreg\n",
      "ast                 jupyterlab_pygments sqlite3             winsound\n",
      "async_generator     keyword             sre_compile         winxpgui\n",
      "asynchat            lib2to3             sre_constants       winxptheme\n",
      "asyncio             linecache           sre_parse           wsgiref\n",
      "asyncore            locale              ssl                 xdrlib\n",
      "atexit              logging             sspi                xml\n",
      "attr                lzma                sspicon             xmlrpc\n",
      "audioop             macpath             stat                xxsubtype\n",
      "autoreload          mailbox             statistics          zipapp\n",
      "backcall            mailcap             storemagic          zipfile\n",
      "base64              markupsafe          string              zipimport\n",
      "bdb                 marshal             stringprep          zipp\n",
      "binascii            math                struct              zlib\n",
      "binhex              mimetypes           subprocess          zmq\n",
      "bisect              mistune             sunau               \n",
      "bleach              mmap                symbol              \n",
      "builtins            mmapfile            sympyprinting       \n",
      "\n",
      "Enter any module name to get more help.  Or, type \"modules spam\" to search\n",
      "for modules whose name or summary contain the string \"spam\".\n",
      "\n"
     ]
    }
   ],
   "source": [
    "help(\"modules\")"
   ]
  },
  {
   "cell_type": "code",
   "execution_count": 14,
   "metadata": {},
   "outputs": [],
   "source": [
    "import math"
   ]
  },
  {
   "cell_type": "code",
   "execution_count": 15,
   "metadata": {},
   "outputs": [
    {
     "name": "stdout",
     "output_type": "stream",
     "text": [
      "['__doc__', '__loader__', '__name__', '__package__', '__spec__', 'acos', 'acosh', 'asin', 'asinh', 'atan', 'atan2', 'atanh', 'ceil', 'copysign', 'cos', 'cosh', 'degrees', 'e', 'erf', 'erfc', 'exp', 'expm1', 'fabs', 'factorial', 'floor', 'fmod', 'frexp', 'fsum', 'gamma', 'gcd', 'hypot', 'inf', 'isclose', 'isfinite', 'isinf', 'isnan', 'ldexp', 'lgamma', 'log', 'log10', 'log1p', 'log2', 'modf', 'nan', 'pi', 'pow', 'radians', 'remainder', 'sin', 'sinh', 'sqrt', 'tan', 'tanh', 'tau', 'trunc']\n"
     ]
    }
   ],
   "source": [
    "print(dir(math))"
   ]
  },
  {
   "cell_type": "code",
   "execution_count": 16,
   "metadata": {},
   "outputs": [
    {
     "data": {
      "text/plain": [
       "3.1622776601683795"
      ]
     },
     "execution_count": 16,
     "metadata": {},
     "output_type": "execute_result"
    }
   ],
   "source": [
    "math.sqrt(10)"
   ]
  },
  {
   "cell_type": "code",
   "execution_count": 17,
   "metadata": {},
   "outputs": [
    {
     "data": {
      "text/plain": [
       "120"
      ]
     },
     "execution_count": 17,
     "metadata": {},
     "output_type": "execute_result"
    }
   ],
   "source": [
    "math.factorial(5)"
   ]
  },
  {
   "cell_type": "code",
   "execution_count": 18,
   "metadata": {},
   "outputs": [
    {
     "name": "stdout",
     "output_type": "stream",
     "text": [
      "Package             Version\n",
      "------------------- -------\n",
      "argon2-cffi         20.1.0 \n",
      "async-generator     1.10   \n",
      "attrs               20.2.0 \n",
      "backcall            0.2.0  \n",
      "bleach              3.1.5  \n",
      "cffi                1.14.3 \n",
      "colorama            0.4.3  \n",
      "decorator           4.4.2  \n",
      "defusedxml          0.6.0  \n",
      "entrypoints         0.3    \n",
      "importlib-metadata  1.7.0  \n",
      "ipykernel           5.3.4  \n",
      "ipython             7.18.1 \n",
      "ipython-genutils    0.2.0  \n",
      "ipywidgets          7.5.1  \n",
      "jedi                0.17.2 \n",
      "Jinja2              2.11.2 \n",
      "jsonschema          3.2.0  \n",
      "jupyter             1.0.0  \n",
      "jupyter-client      6.1.7  \n",
      "jupyter-console     6.2.0  \n",
      "jupyter-core        4.6.3  \n",
      "jupyterlab-pygments 0.1.1  \n",
      "MarkupSafe          1.1.1  \n",
      "mistune             0.8.4  \n",
      "nbclient            0.5.0  \n",
      "nbconvert           6.0.2  \n",
      "nbformat            5.0.7  \n",
      "nest-asyncio        1.4.0  \n",
      "notebook            6.1.4  \n",
      "packaging           20.4   \n",
      "pandocfilters       1.4.2  \n",
      "parso               0.7.1  \n",
      "pickleshare         0.7.5  \n",
      "pip                 19.0.3 \n",
      "prometheus-client   0.8.0  \n",
      "prompt-toolkit      3.0.7  \n",
      "pycparser           2.20   \n",
      "Pygments            2.7.0  \n",
      "pyparsing           2.4.7  \n",
      "pyrsistent          0.17.3 \n",
      "python-dateutil     2.8.1  \n",
      "pywin32             228    \n",
      "pywinpty            0.5.7  \n",
      "Note: you may need to restart the kernel to use updated packages.pyzmq               19.0.2 \n",
      "qtconsole           4.7.7  \n",
      "\n",
      "QtPy                1.9.0  \n",
      "Send2Trash          1.5.0  \n",
      "setuptools          40.8.0 \n",
      "six                 1.15.0 \n",
      "terminado           0.8.3  \n",
      "testpath            0.4.4  \n",
      "tornado             6.0.4  \n",
      "traitlets           5.0.4  \n",
      "wcwidth             0.2.5  \n",
      "webencodings        0.5.1  \n",
      "widgetsnbextension  3.5.1  \n",
      "zipp                3.1.0  \n"
     ]
    }
   ],
   "source": [
    "pip list"
   ]
  },
  {
   "cell_type": "code",
   "execution_count": 19,
   "metadata": {},
   "outputs": [],
   "source": [
    "import module"
   ]
  },
  {
   "cell_type": "code",
   "execution_count": 20,
   "metadata": {},
   "outputs": [
    {
     "name": "stdout",
     "output_type": "stream",
     "text": [
      "Help on module module:\n",
      "\n",
      "NAME\n",
      "    module\n",
      "\n",
      "FUNCTIONS\n",
      "    greeting(name)\n",
      "\n",
      "FILE\n",
      "    d:\\user\\polytechnic intership\\python programs\\day 15\\module.py\n",
      "\n",
      "\n"
     ]
    }
   ],
   "source": [
    "help(module)"
   ]
  },
  {
   "cell_type": "code",
   "execution_count": 23,
   "metadata": {},
   "outputs": [
    {
     "name": "stdout",
     "output_type": "stream",
     "text": [
      "hellovamsi\n"
     ]
    }
   ],
   "source": [
    "module.greeting(\"vamsi\")\n"
   ]
  },
  {
   "cell_type": "code",
   "execution_count": 25,
   "metadata": {},
   "outputs": [],
   "source": [
    "from pack import apssdc"
   ]
  },
  {
   "cell_type": "code",
   "execution_count": 26,
   "metadata": {},
   "outputs": [
    {
     "name": "stdout",
     "output_type": "stream",
     "text": [
      "odd\n"
     ]
    }
   ],
   "source": [
    "apssdc.even(5)"
   ]
  },
  {
   "cell_type": "code",
   "execution_count": 27,
   "metadata": {},
   "outputs": [
    {
     "name": "stdout",
     "output_type": "stream",
     "text": [
      "56\n"
     ]
    }
   ],
   "source": [
    "apssdc.largest(15,56)"
   ]
  },
  {
   "cell_type": "code",
   "execution_count": null,
   "metadata": {},
   "outputs": [],
   "source": []
  }
 ],
 "metadata": {
  "kernelspec": {
   "display_name": "Python 3",
   "language": "python",
   "name": "python3"
  },
  "language_info": {
   "codemirror_mode": {
    "name": "ipython",
    "version": 3
   },
   "file_extension": ".py",
   "mimetype": "text/x-python",
   "name": "python",
   "nbconvert_exporter": "python",
   "pygments_lexer": "ipython3",
   "version": "3.7.4"
  }
 },
 "nbformat": 4,
 "nbformat_minor": 4
}
