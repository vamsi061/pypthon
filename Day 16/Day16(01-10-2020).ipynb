{
 "cells": [
  {
   "cell_type": "markdown",
   "metadata": {},
   "source": [
    "# File Handling\n",
    "- what is file\n",
    "- what is file handling\n",
    "- file methods\n",
    "- use of \"with\" statement\n",
    "- File: \n",
    "    - File is saved in some location on local system to store some information\n",
    "- Ex:-\n",
    "    - .txt,.jpg,.html,.ipby,.png\n",
    "- File handling\n",
    "     - create,reading,update,delete\n",
    "     - create\n",
    "     - open\n",
    "     - working\n",
    "     - close\n",
    "- File methods\n",
    "    - open()\n",
    "        - syntax: file_obj=open(\"filename\",\"mode\")\n",
    "    - read()\n",
    "        - syntax: file_obj.read(size)\n",
    "    - write()\n",
    "        - syntax: file_obj.write(data)\n",
    "    - close()\n",
    "        - syntax: file_obj.close()\n",
    "    - readline()\n",
    "        - syntax: file_readlines()\n",
    "        \n",
    "        \n",
    " - Different Modes:\n",
    "     - open(\"filename\",\"mode\")\n",
    "     - open(\"filename\",\"r\")\n",
    "     - open(\"filename\",\"w\")\n",
    "     - open(\"filename\",\"a\")\n",
    "     - open(\"filename\",\"r+\")\n",
    "     - open(\"filename\",\"w+\")\n",
    "     "
   ]
  },
  {
   "cell_type": "code",
   "execution_count": 7,
   "metadata": {},
   "outputs": [
    {
     "name": "stdout",
     "output_type": "stream",
     "text": [
      "Done\n"
     ]
    }
   ],
   "source": [
    "# creating a file\n",
    "f=open(\"file.txt\",\"w\")\n",
    "data=\"welcome to python intership program\"\n",
    "f.write(data)\n",
    "print(\"Done\")\n",
    "f.close()"
   ]
  },
  {
   "cell_type": "code",
   "execution_count": 45,
   "metadata": {},
   "outputs": [
    {
     "name": "stdout",
     "output_type": "stream",
     "text": [
      "Done\n"
     ]
    }
   ],
   "source": [
    "f=open(\"file.txt\",\"r\")\n",
    "data=\"welcome to python intership program\"\n",
    "f.read()\n",
    "print(\"Done\")\n",
    "f.close()"
   ]
  },
  {
   "cell_type": "code",
   "execution_count": 10,
   "metadata": {},
   "outputs": [
    {
     "name": "stdout",
     "output_type": "stream",
     "text": [
      "welcome to python intership program\n"
     ]
    }
   ],
   "source": [
    "file = open(\"file.txt\",\"r\")\n",
    "data1=file.read()\n",
    "print(data1)\n",
    "f.close()"
   ]
  },
  {
   "cell_type": "code",
   "execution_count": 11,
   "metadata": {},
   "outputs": [
    {
     "name": "stdout",
     "output_type": "stream",
     "text": [
      "Completed\n"
     ]
    }
   ],
   "source": [
    "# append some data\n",
    "file = open(\"file.txt\",'a')\n",
    "data1=\"\\nHello Everyone\"\n",
    "file.write(data1)\n",
    "print(\"Completed\")\n",
    "file.close()"
   ]
  },
  {
   "cell_type": "code",
   "execution_count": 13,
   "metadata": {},
   "outputs": [
    {
     "name": "stdout",
     "output_type": "stream",
     "text": [
      "welcome to python intership program\n",
      "Hello Everyone\n"
     ]
    }
   ],
   "source": [
    "with open(\"file.txt\",\"r\") as file:\n",
    "    data=file.read()\n",
    "    print(data)"
   ]
  },
  {
   "cell_type": "code",
   "execution_count": 14,
   "metadata": {},
   "outputs": [
    {
     "name": "stdout",
     "output_type": "stream",
     "text": [
      "Enter some dataApssdc is conducting some program\n",
      "Completed....................\n"
     ]
    }
   ],
   "source": [
    "file=open(\"file2.txt\",\"w\")\n",
    "file.write(input(\"Enter some data\"))\n",
    "print(\"Completed\"+(\".\"*20))\n",
    "file.close()"
   ]
  },
  {
   "cell_type": "code",
   "execution_count": 51,
   "metadata": {},
   "outputs": [],
   "source": [
    "# D:\\User\\Python Projects\\Project 1\\Bootstrap\n",
    "# location\n",
    "f=open(\"D:\\\\debug.log\",\"r\")\n",
    "d=f.read()\n",
    "f.close()"
   ]
  },
  {
   "cell_type": "markdown",
   "metadata": {},
   "source": [
    "- File objective methods\n",
    "    - seek()\n",
    "        - used to change the cursor posotion\n",
    "    - tell()\n",
    "        - used to know the cursor position\n",
    "        "
   ]
  },
  {
   "cell_type": "code",
   "execution_count": 19,
   "metadata": {},
   "outputs": [
    {
     "name": "stdout",
     "output_type": "stream",
     "text": [
      "11\n",
      "welcome to \n",
      "20\n"
     ]
    }
   ],
   "source": [
    "f= open(\"file.txt\",\"r\")\n",
    "data=f.read(11)\n",
    "print(f.tell())\n",
    "print(data)\n",
    "f.seek(20)\n",
    "print(f.tell())\n",
    "f.close()"
   ]
  },
  {
   "cell_type": "code",
   "execution_count": 27,
   "metadata": {},
   "outputs": [
    {
     "name": "stdout",
     "output_type": "stream",
     "text": [
      "enoyrevE olleH\n",
      "margorp pihsretni nohtyp ot emoclew\n"
     ]
    }
   ],
   "source": [
    "# to print the data in the reversed order\n",
    "with open(\"file.txt\",'r') as file:\n",
    "    data = file.read()\n",
    "    print(data[::-1])"
   ]
  },
  {
   "cell_type": "code",
   "execution_count": 26,
   "metadata": {},
   "outputs": [
    {
     "data": {
      "text/plain": [
       "'gnirts'"
      ]
     },
     "execution_count": 26,
     "metadata": {},
     "output_type": "execute_result"
    }
   ],
   "source": [
    "a=\"string\"\n",
    "a[::-1]"
   ]
  },
  {
   "cell_type": "code",
   "execution_count": 28,
   "metadata": {},
   "outputs": [
    {
     "name": "stdout",
     "output_type": "stream",
     "text": [
      "['welcome to python intership program\\n', 'Hello Everyone']\n"
     ]
    }
   ],
   "source": [
    "with open(\"file.txt\",\"r\") as file:\n",
    "    data = file.readlines()\n",
    "    print(data)"
   ]
  },
  {
   "cell_type": "code",
   "execution_count": 30,
   "metadata": {},
   "outputs": [
    {
     "name": "stdout",
     "output_type": "stream",
     "text": [
      "welcome to python intership program\n",
      "\n",
      "Hello Everyone\n"
     ]
    }
   ],
   "source": [
    "with open(\"file.txt\",\"r\") as file:\n",
    "    data = file.readlines()\n",
    "    for i in data:\n",
    "        print(i)"
   ]
  },
  {
   "cell_type": "code",
   "execution_count": 52,
   "metadata": {},
   "outputs": [
    {
     "name": "stdout",
     "output_type": "stream",
     "text": [
      "welcome to python intership program\n",
      " evetyline\n",
      "['welcome', 'to', 'python', 'intership', 'program\\n'] words\n",
      "5 length\n",
      "Hello Everyone evetyline\n",
      "['Hello', 'Everyone'] words\n",
      "2 length\n"
     ]
    }
   ],
   "source": [
    "# split the data and find how many words are present in each line\n",
    "with open(\"file.txt\",\"r\") as file:\n",
    "    data = file.readlines()\n",
    "    for lines in data:\n",
    "        print(lines,\"evetyline\")\n",
    "        words=lines.split(\" \")\n",
    "        print(words,\"words\")\n",
    "        print(len(words),\"length\")\n",
    "        "
   ]
  },
  {
   "cell_type": "code",
   "execution_count": 53,
   "metadata": {},
   "outputs": [
    {
     "name": "stdout",
     "output_type": "stream",
     "text": [
      "w\n",
      "e\n",
      "l\n",
      "c\n",
      "o\n",
      "m\n",
      "e\n",
      " \n",
      "t\n",
      "o\n",
      " \n",
      "p\n",
      "y\n",
      "t\n",
      "h\n",
      "o\n",
      "n\n",
      " \n",
      "i\n",
      "n\n",
      "t\n",
      "e\n",
      "r\n",
      "s\n",
      "h\n",
      "i\n",
      "p\n",
      " \n",
      "p\n",
      "r\n",
      "o\n",
      "g\n",
      "r\n",
      "a\n",
      "m\n",
      "\n",
      "\n",
      "H\n",
      "e\n",
      "l\n",
      "l\n",
      "o\n",
      " \n",
      "E\n",
      "v\n",
      "e\n",
      "r\n",
      "y\n",
      "o\n",
      "n\n",
      "e\n"
     ]
    }
   ],
   "source": [
    "with open(\"file.txt\",\"r\") as file:\n",
    "    data=file.read()\n",
    "    for ele in data:\n",
    "        print(ele)"
   ]
  },
  {
   "cell_type": "code",
   "execution_count": 72,
   "metadata": {},
   "outputs": [
    {
     "name": "stdout",
     "output_type": "stream",
     "text": [
      "welcome---->7\n",
      "to---->2\n",
      "python---->6\n",
      "intership---->9\n",
      "program\n",
      "---->8\n",
      "Hello---->5\n",
      "Everyone---->8\n"
     ]
    }
   ],
   "source": [
    "# find the length of each and every word and also print that word\n",
    "with open(\"file.txt\",\"r\") as file:\n",
    "    data = file.readlines()\n",
    "    for lines in data:\n",
    "        #print(lines,\"everyline\")\n",
    "        words=lines.split(\" \")\n",
    "        #print(words,\"words\")\n",
    "        #print(len(words),\"length\")\n",
    "        for ele in words:\n",
    "            print(ele,len(ele),sep=\"---->\")\n",
    "        "
   ]
  },
  {
   "cell_type": "code",
   "execution_count": null,
   "metadata": {},
   "outputs": [],
   "source": [
    "# find out the frequency of each word\n",
    "\n",
    "\"hii hello hii hello eveyone\"\n",
    "# d={\"hii\":2,\"hello\":2,\"everyone\":1}"
   ]
  },
  {
   "cell_type": "code",
   "execution_count": 29,
   "metadata": {},
   "outputs": [
    {
     "name": "stdout",
     "output_type": "stream",
     "text": [
      "{'hii': 2, 'hello': 2, 'everyone': 1}\n"
     ]
    }
   ],
   "source": [
    "st=\"hii hello hii hello everyone\"\n",
    "\n",
    "words=st.split()\n"
   ]
  },
  {
   "cell_type": "code",
   "execution_count": 24,
   "metadata": {},
   "outputs": [
    {
     "data": {
      "text/plain": [
       "dict"
      ]
     },
     "execution_count": 24,
     "metadata": {},
     "output_type": "execute_result"
    }
   ],
   "source": [
    "type(c)"
   ]
  },
  {
   "cell_type": "code",
   "execution_count": 2,
   "metadata": {},
   "outputs": [
    {
     "name": "stdout",
     "output_type": "stream",
     "text": [
      "Enter a string hii hello hii everyone\n",
      "{'hii': 2, 'hello': 1, 'everyone': 1}\n"
     ]
    }
   ],
   "source": [
    "st=input(\"Enter a string \")\n",
    "c={}\n",
    "words=st.split()\n",
    "for i in words:\n",
    "    if i in c:\n",
    "        c[i]+=1\n",
    "    else:\n",
    "        c[i]=1\n",
    "print(c)"
   ]
  },
  {
   "cell_type": "code",
   "execution_count": null,
   "metadata": {},
   "outputs": [],
   "source": []
  }
 ],
 "metadata": {
  "kernelspec": {
   "display_name": "Python 3",
   "language": "python",
   "name": "python3"
  },
  "language_info": {
   "codemirror_mode": {
    "name": "ipython",
    "version": 3
   },
   "file_extension": ".py",
   "mimetype": "text/x-python",
   "name": "python",
   "nbconvert_exporter": "python",
   "pygments_lexer": "ipython3",
   "version": "3.7.4"
  }
 },
 "nbformat": 4,
 "nbformat_minor": 4
}
