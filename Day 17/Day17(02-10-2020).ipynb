{
 "cells": [
  {
   "cell_type": "code",
   "execution_count": 3,
   "metadata": {},
   "outputs": [
    {
     "name": "stdout",
     "output_type": "stream",
     "text": [
      "Enter a number 123\n",
      "Sum of the digits 6\n"
     ]
    }
   ],
   "source": [
    "# find the sum of digits ex:123=>1+2+3=6\n",
    "num=int(input(\"Enter a number \"))\n",
    "s=0\n",
    "while(num>0):\n",
    "    r=num%10\n",
    "    s=s+r\n",
    "    num=num//10\n",
    "print(\"Sum of the digits\",s)"
   ]
  },
  {
   "cell_type": "code",
   "execution_count": 4,
   "metadata": {},
   "outputs": [
    {
     "data": {
      "text/plain": [
       "3"
      ]
     },
     "execution_count": 4,
     "metadata": {},
     "output_type": "execute_result"
    }
   ],
   "source": [
    "123%10"
   ]
  },
  {
   "cell_type": "code",
   "execution_count": 5,
   "metadata": {},
   "outputs": [
    {
     "data": {
      "text/plain": [
       "12"
      ]
     },
     "execution_count": 5,
     "metadata": {},
     "output_type": "execute_result"
    }
   ],
   "source": [
    "123//10"
   ]
  },
  {
   "cell_type": "code",
   "execution_count": 7,
   "metadata": {},
   "outputs": [
    {
     "name": "stdout",
     "output_type": "stream",
     "text": [
      "132\n",
      "3\n"
     ]
    }
   ],
   "source": [
    "# s=\"123\" => count the number of digits => 3\n",
    "s=input()\n",
    "print(len(s))"
   ]
  },
  {
   "cell_type": "code",
   "execution_count": 10,
   "metadata": {},
   "outputs": [
    {
     "name": "stdout",
     "output_type": "stream",
     "text": [
      "Enter a number123\n",
      "Number of digits is 3\n"
     ]
    }
   ],
   "source": [
    "s=input(\"Enter a number\")\n",
    "n=int(s)\n",
    "c=0\n",
    "while(n>0):\n",
    "    r=n%10\n",
    "    c=c+1\n",
    "    n=n//10\n",
    "print('Number of digits is',c)"
   ]
  },
  {
   "cell_type": "code",
   "execution_count": 22,
   "metadata": {},
   "outputs": [
    {
     "name": "stdout",
     "output_type": "stream",
     "text": [
      "Enter a number123\n",
      "Not palindrome\n"
     ]
    }
   ],
   "source": [
    "# find the given number is palindrom or not\n",
    "# 212=>212 (palidrome) 123=> (nor palindrom)\n",
    "n=int(input(\"Enter a number\"))\n",
    "temp=n\n",
    "s=0\n",
    "while(num>0):\n",
    "    r=n%10\n",
    "    s=s*10+r\n",
    "    n=n/10\n",
    "if(t==s):\n",
    "    print(\"Palindrome\")\n",
    "else:\n",
    "    print(\"Not palindrome\")"
   ]
  },
  {
   "cell_type": "code",
   "execution_count": 24,
   "metadata": {},
   "outputs": [
    {
     "name": "stdout",
     "output_type": "stream",
     "text": [
      "Enter a number1335\n",
      "Single digit of a given number is 3\n"
     ]
    }
   ],
   "source": [
    "# sum the given digits upto get singles digit\n",
    "# 2301=>2+3+0+1=>6\n",
    "# 1996=> 1+9+9+6=>25=>2+5=>7\n",
    "\n",
    "n=int(input(\"Enter a number\"))\n",
    "s=0\n",
    "while(n>0 or s>9):\n",
    "    if(n==0):\n",
    "        n=s\n",
    "        s=0\n",
    "    r=n%10\n",
    "    s=s+r\n",
    "    n=n//10\n",
    "print(\"Single digit of a given number is\",s)\n",
    "    "
   ]
  },
  {
   "cell_type": "code",
   "execution_count": 25,
   "metadata": {},
   "outputs": [],
   "source": [
    "# find the given number is armstrong or not\n",
    "# sum of cubes of individual number is equal to given number is known as armstrog\n",
    "\n",
    "# 153=>1*1*1+5*5*5+3*3*3=>1+125+27=>153\n",
    "# 1633=>1*1*1*1+6*6*6*6+3*3*3*3+4*4*4*4=>1663"
   ]
  },
  {
   "cell_type": "code",
   "execution_count": 28,
   "metadata": {},
   "outputs": [
    {
     "name": "stdout",
     "output_type": "stream",
     "text": [
      "Enter a number 121\n",
      "Not Armstrong 121\n"
     ]
    }
   ],
   "source": [
    "n=int(input(\"Enter a number \"))\n",
    "l=len(str(n))\n",
    "temp=n\n",
    "s=0\n",
    "while(n>0):\n",
    "    r=n%10\n",
    "    s=s+pow(r,l)\n",
    "    n=n//10\n",
    "if(s==temp):\n",
    "    print(\"Armstrong number\",temp)\n",
    "else:\n",
    "    print(\"Not Armstrong\",temp)"
   ]
  },
  {
   "cell_type": "code",
   "execution_count": null,
   "metadata": {},
   "outputs": [],
   "source": []
  }
 ],
 "metadata": {
  "kernelspec": {
   "display_name": "Python 3",
   "language": "python",
   "name": "python3"
  },
  "language_info": {
   "codemirror_mode": {
    "name": "ipython",
    "version": 3
   },
   "file_extension": ".py",
   "mimetype": "text/x-python",
   "name": "python",
   "nbconvert_exporter": "python",
   "pygments_lexer": "ipython3",
   "version": "3.7.4"
  }
 },
 "nbformat": 4,
 "nbformat_minor": 4
}
