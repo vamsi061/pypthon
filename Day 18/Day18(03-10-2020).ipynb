{
 "cells": [
  {
   "cell_type": "code",
   "execution_count": 2,
   "metadata": {},
   "outputs": [
    {
     "name": "stdout",
     "output_type": "stream",
     "text": [
      "Enter a number 2\n",
      "Enter last number20\n",
      "2 3 5 7 11 13 17 19 "
     ]
    }
   ],
   "source": [
    "# print the in between prime numbers\n",
    "first=int(input(\"Enter a number \"))\n",
    "end=int(input(\"Enter last number\"))\n",
    "for i in range(first,end+1):\n",
    "    if(i>1):\n",
    "        c=0\n",
    "        for j in range(2,i):\n",
    "            if(i%j==0):\n",
    "                c=c+1\n",
    "        if(c==0):\n",
    "            print(i,end=\" \")\n",
    "    else:\n",
    "        print(\"Enter starting number 2\")"
   ]
  },
  {
   "cell_type": "code",
   "execution_count": 3,
   "metadata": {},
   "outputs": [
    {
     "name": "stdout",
     "output_type": "stream",
     "text": [
      "enter a stringone\n",
      "Enter another stringtwo\n",
      "newo\n"
     ]
    }
   ],
   "source": [
    "# Given two strings, return their concatenation, except omit the first char of each\n",
    "# ex: ine two =>newo: bhanu prakesh => hanurakash\n",
    "s=input('enter a string')\n",
    "s1=input(\"Enter another string\")\n",
    "s3=s[1:]+s1[1:]\n",
    "print(s3)"
   ]
  },
  {
   "cell_type": "code",
   "execution_count": 5,
   "metadata": {},
   "outputs": [
    {
     "data": {
      "text/plain": [
       "'apssdc'"
      ]
     },
     "execution_count": 5,
     "metadata": {},
     "output_type": "execute_result"
    }
   ],
   "source": [
    "s=\"apssdc\"\n",
    "s[1:]\n",
    "s"
   ]
  },
  {
   "cell_type": "code",
   "execution_count": 6,
   "metadata": {},
   "outputs": [
    {
     "data": {
      "text/plain": [
       "'ssdc'"
      ]
     },
     "execution_count": 6,
     "metadata": {},
     "output_type": "execute_result"
    }
   ],
   "source": [
    "s[2:]"
   ]
  },
  {
   "cell_type": "code",
   "execution_count": 8,
   "metadata": {},
   "outputs": [
    {
     "name": "stdout",
     "output_type": "stream",
     "text": [
      "enter a stringone\n",
      "Enter second stringtwo\n"
     ]
    },
    {
     "data": {
      "text/plain": [
       "'newo'"
      ]
     },
     "execution_count": 8,
     "metadata": {},
     "output_type": "execute_result"
    }
   ],
   "source": [
    "def concat(s,s1):\n",
    "    s2=s[1:]+s1[1:]\n",
    "    return s2\n",
    "concat(input(\"enter a string\"),input(\"Enter second string\"))"
   ]
  },
  {
   "cell_type": "code",
   "execution_count": 9,
   "metadata": {},
   "outputs": [],
   "source": [
    "f=open(\"file.txt\",\"w\")\n",
    "data=\"Hii hello hii everyone\"\n",
    "f.write(data)\n",
    "f.close()"
   ]
  },
  {
   "cell_type": "code",
   "execution_count": 16,
   "metadata": {},
   "outputs": [],
   "source": [
    "f=open(\"file.txt\",\"w\")\n",
    "data=\"hii hello hii hello everyone\"\n",
    "f.write(data)\n",
    "f.close()"
   ]
  },
  {
   "cell_type": "code",
   "execution_count": 15,
   "metadata": {},
   "outputs": [
    {
     "name": "stdout",
     "output_type": "stream",
     "text": [
      "['Hii hello hii everyone']\n",
      "['Hii', 'hello', 'hii', 'everyone']\n",
      "{'Hii': 1, 'hello': 1, 'hii': 1, 'everyone': 1}\n"
     ]
    }
   ],
   "source": [
    "d={}\n",
    "f=open(\"file.txt\",\"r\")\n",
    "data=f.readlines()\n",
    "print(data)\n",
    "for line in data:\n",
    "    words = line.split()\n",
    "    print(words)\n",
    "    for word in words:\n",
    "        if word not in d:\n",
    "            d[word]=1\n",
    "        else:\n",
    "            d[word]+=1\n",
    "print(d)\n",
    "f.close()"
   ]
  },
  {
   "cell_type": "code",
   "execution_count": 17,
   "metadata": {},
   "outputs": [],
   "source": [
    "# range as 3\n",
    "# 10\n",
    "# 20\n",
    "# 30\n",
    "# 60"
   ]
  },
  {
   "cell_type": "code",
   "execution_count": 30,
   "metadata": {},
   "outputs": [
    {
     "name": "stdout",
     "output_type": "stream",
     "text": [
      "enter the data 20\n",
      "enter the data 30\n",
      "enter the data 40\n"
     ]
    }
   ],
   "source": [
    "for i in range(3):\n",
    "    f = open(\"su.txt\",\"a\")\n",
    "    f.write(input(\"enter the data \")+\"\\n\")\n",
    "    f.close()"
   ]
  },
  {
   "cell_type": "code",
   "execution_count": 28,
   "metadata": {},
   "outputs": [
    {
     "data": {
      "text/plain": [
       "23"
      ]
     },
     "execution_count": 28,
     "metadata": {},
     "output_type": "execute_result"
    }
   ],
   "source": [
    "a=\"23\"\n",
    "int(a)"
   ]
  },
  {
   "cell_type": "code",
   "execution_count": 34,
   "metadata": {},
   "outputs": [
    {
     "name": "stdout",
     "output_type": "stream",
     "text": [
      "['20202023345620\\n', '30\\n', '40\\n'] line by line\n",
      "20202023345620\n",
      " number\n",
      "30\n",
      " number\n",
      "40\n",
      " number\n",
      "20202023345690 total sum\n"
     ]
    }
   ],
   "source": [
    "s=0\n",
    "f= open(\"su.txt\",\"r\")\n",
    "data=f.readlines()\n",
    "print(data,\"line by line\")\n",
    "for ele in data:\n",
    "    print((ele),\"number\")\n",
    "    s = int(ele) + s\n",
    "print(s,\"total sum\")\n",
    "f.close()"
   ]
  },
  {
   "cell_type": "code",
   "execution_count": null,
   "metadata": {},
   "outputs": [],
   "source": [
    "s=0\n",
    "s=int(ele)+s\n",
    "s=34\n",
    "s=20+34\n",
    "s=54\n",
    "s=23+54\n",
    "s=77"
   ]
  },
  {
   "cell_type": "code",
   "execution_count": null,
   "metadata": {},
   "outputs": [],
   "source": []
  }
 ],
 "metadata": {
  "kernelspec": {
   "display_name": "Python 3",
   "language": "python",
   "name": "python3"
  },
  "language_info": {
   "codemirror_mode": {
    "name": "ipython",
    "version": 3
   },
   "file_extension": ".py",
   "mimetype": "text/x-python",
   "name": "python",
   "nbconvert_exporter": "python",
   "pygments_lexer": "ipython3",
   "version": "3.7.4"
  }
 },
 "nbformat": 4,
 "nbformat_minor": 4
}
