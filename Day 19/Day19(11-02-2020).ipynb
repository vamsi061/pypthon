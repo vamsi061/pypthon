{
 "cells": [
  {
   "cell_type": "code",
   "execution_count": 1,
   "metadata": {},
   "outputs": [],
   "source": [
    "# find number of characters in a given string withour using length\n",
    "# you have to read string from user i.e python programming\n",
    "# count = 18\n"
   ]
  },
  {
   "cell_type": "code",
   "execution_count": 8,
   "metadata": {},
   "outputs": [
    {
     "name": "stdout",
     "output_type": "stream",
     "text": [
      "Enter a string python programming\n",
      "python programming\n",
      "count: 18\n"
     ]
    }
   ],
   "source": [
    "string=input(\"Enter a string \")\n",
    "print(string)\n",
    "count=0\n",
    "for i in string:\n",
    "    count=count+1\n",
    "print(\"count: {}\".format(count))"
   ]
  },
  {
   "cell_type": "code",
   "execution_count": 15,
   "metadata": {},
   "outputs": [
    {
     "name": "stdout",
     "output_type": "stream",
     "text": [
      "Enter a string python programming\n",
      "python programming\n",
      "['p']\n",
      "['y']\n",
      "['t']\n",
      "['h']\n",
      "['o']\n",
      "['n']\n",
      "[' ']\n",
      "['p']\n",
      "['r']\n",
      "['o']\n",
      "['g']\n",
      "['r']\n",
      "['a']\n",
      "['m']\n",
      "['m']\n",
      "['i']\n",
      "['n']\n",
      "['g']\n"
     ]
    }
   ],
   "source": [
    "string=input(\"Enter a string \")\n",
    "print(string)\n",
    "count=0\n",
    "for i in string:\n",
    "    count=count+1\n",
    "    if([i]):\n",
    "        print([i])"
   ]
  },
  {
   "cell_type": "code",
   "execution_count": 42,
   "metadata": {},
   "outputs": [
    {
     "name": "stdout",
     "output_type": "stream",
     "text": [
      "Enter a string python programmming\n",
      "Number of words in given string are 2\n",
      "Number of characters in given string are 1\n",
      "Number of vowels in given string are 4\n"
     ]
    }
   ],
   "source": [
    "string=input(\"Enter a string \")\n",
    "def words():\n",
    "    co=1\n",
    "    for i in string:\n",
    "        if(i==' '):\n",
    "            co+=1\n",
    "    return co\n",
    "\n",
    "def count():\n",
    "    dt={}\n",
    "    co=0\n",
    "    for i in string:\n",
    "        if(i==' '):\n",
    "            co+=1\n",
    "    return co\n",
    "\n",
    "def vowel():\n",
    "    co=0\n",
    "    for i in string:\n",
    "        if(i=='a' or i=='A' or i=='e' or i=='E' or i=='i' or i=='I' or i=='o' or i=='O' or i=='u' or i=='U'):\n",
    "            co+=1\n",
    "    return co\n",
    "\n",
    "print(\"Number of words in given string are\",words())\n",
    "print(\"Number of characters in given string are\",count())\n",
    "print(\"Number of vowels in given string are\",vowel())"
   ]
  },
  {
   "cell_type": "code",
   "execution_count": 69,
   "metadata": {},
   "outputs": [
    {
     "name": "stdout",
     "output_type": "stream",
     "text": [
      "Enter a sting python programming\n",
      "p => 2\n",
      "y => 1\n",
      "t => 1\n",
      "h => 1\n",
      "o => 2\n",
      "n => 2\n",
      "  => 1\n",
      "p => 2\n",
      "r => 2\n",
      "o => 2\n",
      "g => 2\n",
      "r => 2\n",
      "a => 1\n",
      "m => 2\n",
      "m => 2\n",
      "i => 1\n",
      "n => 2\n",
      "g => 2\n"
     ]
    }
   ],
   "source": [
    "string=input(\"Enter a sting \")\n",
    "list(string)\n",
    "for i in list(string):\n",
    "    if i in string:\n",
    "        print(i,\"=>\",string.count(i))"
   ]
  },
  {
   "cell_type": "code",
   "execution_count": 64,
   "metadata": {},
   "outputs": [
    {
     "name": "stdout",
     "output_type": "stream",
     "text": [
      "Enter a stringpython programming\n",
      "['p', 'y', 't', 'h', 'o', 'n', ' ', 'p', 'r', 'o', 'g', 'r', 'a', 'm', 'm', 'i', 'n', 'g']\n"
     ]
    }
   ],
   "source": [
    "string=input(\"Enter a string\")\n",
    "li=[]\n",
    "co=0\n",
    "for i in string:\n",
    "    li.append(i)\n",
    "    if(li==i):\n",
    "        print(i,co)\n",
    "        co+=1\n",
    "print(li)"
   ]
  },
  {
   "cell_type": "code",
   "execution_count": 76,
   "metadata": {},
   "outputs": [
    {
     "name": "stdout",
     "output_type": "stream",
     "text": [
      "Enter a string python programming\n",
      "p => 2\n",
      "y => 1\n",
      "t => 1\n",
      "h => 1\n",
      "o => 2\n",
      "n => 2\n",
      "  => 1\n",
      "r => 2\n",
      "g => 2\n",
      "a => 1\n",
      "m => 2\n",
      "i => 1\n"
     ]
    }
   ],
   "source": [
    "m = input(\"Enter a string \")\n",
    "dq={}\n",
    "for k in m:\n",
    "    dq[k]=m.count(k)\n",
    "for i,j in dq.items():\n",
    "    print(i,\"=>\",j)"
   ]
  },
  {
   "cell_type": "code",
   "execution_count": 74,
   "metadata": {},
   "outputs": [
    {
     "data": {
      "text/plain": [
       "dict"
      ]
     },
     "execution_count": 74,
     "metadata": {},
     "output_type": "execute_result"
    }
   ],
   "source": [
    "k={'s':1}\n",
    "type(k)"
   ]
  },
  {
   "cell_type": "code",
   "execution_count": 2,
   "metadata": {},
   "outputs": [],
   "source": [
    "## 1) wap to count the number of factors of a given number\n",
    "## 2) wap to find second largest factor of given number\n",
    "## 3) wap to find second smallest factor of a given number\n",
    "## 4) wap to count all the prime nums between 1 to 100\n",
    "## 5) wap to find sum of all prime nums between 1 to 100\n",
    "## 6) wap to find largest and smallest prime number  between 1 to 100"
   ]
  },
  {
   "cell_type": "code",
   "execution_count": 43,
   "metadata": {},
   "outputs": [
    {
     "name": "stdout",
     "output_type": "stream",
     "text": [
      "Enter a number 12\n",
      "The count of factors is 6\n"
     ]
    }
   ],
   "source": [
    "## task1\n",
    "n=int(input(\"Enter a number \"))\n",
    "count=0\n",
    "for i in range(1,n+1):\n",
    "    if(n%i==0):\n",
    "        count+=1\n",
    "print(\"The count of factors is\",count)"
   ]
  },
  {
   "cell_type": "code",
   "execution_count": 1,
   "metadata": {},
   "outputs": [
    {
     "name": "stdout",
     "output_type": "stream",
     "text": [
      "Enter a number 12\n",
      "The second largest factor is 6\n"
     ]
    }
   ],
   "source": [
    "## task2\n",
    "n=int(input(\"Enter a number \"))\n",
    "count=0\n",
    "d=[]\n",
    "for i in range(1,n+1):\n",
    "    if(n%i==0):\n",
    "        count+=1\n",
    "        d.append(i)\n",
    "print(\"The second largest factor is\",d[-2])"
   ]
  },
  {
   "cell_type": "code",
   "execution_count": 45,
   "metadata": {},
   "outputs": [
    {
     "name": "stdout",
     "output_type": "stream",
     "text": [
      "Enter a number 12\n",
      "The second smallest factor is 2\n"
     ]
    }
   ],
   "source": [
    "## task3\n",
    "n=int(input(\"Enter a number \"))\n",
    "count=0\n",
    "d=[]\n",
    "for i in range(1,n+1):\n",
    "    if(n%i==0):\n",
    "        count+=1\n",
    "        d.append(i)\n",
    "print(\"The second smallest factor is\",d[1])"
   ]
  },
  {
   "cell_type": "code",
   "execution_count": 36,
   "metadata": {},
   "outputs": [
    {
     "name": "stdout",
     "output_type": "stream",
     "text": [
      "2 3 5 7 11 13 17 19 23 29 31 37 41 43 47 53 59 61 67 71 73 79 83 89 97 \n",
      "The count of prime number 1 to 100 is 25\n"
     ]
    }
   ],
   "source": [
    "## task4\n",
    "d=[]\n",
    "for n in range(1,101):\n",
    "    co=0\n",
    "    for i in range(2,(n//2+1)):\n",
    "        if(n%i==0):\n",
    "            co+=1\n",
    "            break\n",
    "    if (co==0 and n!=1):\n",
    "        print(\"%d\"%n,end=' ')\n",
    "        d.append(n)\n",
    "print(\"\\nThe count of prime number 1 to 100 is\",len(d))"
   ]
  },
  {
   "cell_type": "code",
   "execution_count": 42,
   "metadata": {},
   "outputs": [
    {
     "name": "stdout",
     "output_type": "stream",
     "text": [
      "2 3 5 7 11 13 17 19 23 29 31 37 41 43 47 53 59 61 67 71 73 79 83 89 97 \n",
      "The sum of prime numbers between 1 to 100 is 1060\n"
     ]
    }
   ],
   "source": [
    "## task5\n",
    "d=[]\n",
    "for n in range(1,101):\n",
    "    co=0\n",
    "    for i in range(2,(n//2+1)):\n",
    "        if(n%i==0):\n",
    "            co+=1\n",
    "            break\n",
    "    if (co==0 and n!=1):\n",
    "        print(\"%d\"%n,end=' ')\n",
    "        d.append(n)\n",
    "print(\"\\nThe sum of prime numbers between 1 to 100 is\",sum(d))"
   ]
  },
  {
   "cell_type": "code",
   "execution_count": 3,
   "metadata": {},
   "outputs": [
    {
     "name": "stdout",
     "output_type": "stream",
     "text": [
      "2 3 5 7 11 13 17 19 23 29 31 37 41 43 47 53 59 61 67 71 73 79 83 89 97 \n",
      "The largest prime number between 1 to 100 is 97\n",
      "The smallest prime number between 1 to 100 is 2\n"
     ]
    }
   ],
   "source": [
    "## task6\n",
    "d=[]\n",
    "for n in range(1,101):\n",
    "    co=0\n",
    "    for i in range(2,(n//2+1)):\n",
    "        if(n%i==0):\n",
    "            co+=1\n",
    "            break\n",
    "    if (co==0 and n!=1):\n",
    "        print(\"%d\"%n,end=' ')\n",
    "        d.append(n)\n",
    "print(\"\\nThe largest prime number between 1 to 100 is\",d[-1])\n",
    "print(\"The smallest prime number between 1 to 100 is\",d[0])"
   ]
  },
  {
   "cell_type": "code",
   "execution_count": null,
   "metadata": {},
   "outputs": [],
   "source": []
  }
 ],
 "metadata": {
  "kernelspec": {
   "display_name": "Python 3",
   "language": "python",
   "name": "python3"
  },
  "language_info": {
   "codemirror_mode": {
    "name": "ipython",
    "version": 3
   },
   "file_extension": ".py",
   "mimetype": "text/x-python",
   "name": "python",
   "nbconvert_exporter": "python",
   "pygments_lexer": "ipython3",
   "version": "3.7.4"
  }
 },
 "nbformat": 4,
 "nbformat_minor": 4
}
