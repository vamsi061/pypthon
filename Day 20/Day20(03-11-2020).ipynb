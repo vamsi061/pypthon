{
 "cells": [
  {
   "cell_type": "markdown",
   "metadata": {},
   "source": [
    "# Files:\n",
    "    - To store the data permanently\n",
    "    - .tx, .doc, .csv, .py, .java, .c\n",
    "    - open(), close()\n",
    "    - with[dosent have to close a file]\n",
    "    - filepath,mode\n",
    "    - mode:\n",
    "        - r -> read (file does not exist in loaction it shows error)\n",
    "        - w -> write (file does not exist in loaction it automatically a fils and perform actions.It removes the pervious data from a file it appends teh present data)\n",
    "        - a -> append(file does nto exit in location it automatically creates a file.It performs an action.It does not remove the perviour data)\n",
    "        - x -> (It creat a file in a location. if it exists with the name i dosent creat a file with same name)\n",
    "        - with open (filepath,mode) as filepointer:\n",
    "            filepointer.actions\n",
    "        "
   ]
  },
  {
   "cell_type": "code",
   "execution_count": 1,
   "metadata": {},
   "outputs": [
    {
     "name": "stdout",
     "output_type": "stream",
     "text": [
      "python\n"
     ]
    }
   ],
   "source": [
    "k= \"python\"\n",
    "print(k)"
   ]
  },
  {
   "cell_type": "code",
   "execution_count": 23,
   "metadata": {},
   "outputs": [],
   "source": [
    "with open(\"DataFiles/sample.text\",\"w\") as fw:\n",
    "    fw.write(\"welcome to APSSDC intership program \\n good morning\\n\")\n",
    "    fw.write(\"Hi Good Morning to All...\")"
   ]
  },
  {
   "cell_type": "code",
   "execution_count": 26,
   "metadata": {},
   "outputs": [
    {
     "name": "stdout",
     "output_type": "stream",
     "text": [
      "['welcome to APSSDC intership program \\n', ' good morning\\n', 'Hi Good Morning to All...']\n",
      "\n"
     ]
    }
   ],
   "source": [
    "with open(\"DataFiles/sample.text\",\"r\") as fr:\n",
    "    print(fr.readlines())\n",
    "    print(fr.readline())"
   ]
  },
  {
   "cell_type": "code",
   "execution_count": 11,
   "metadata": {},
   "outputs": [
    {
     "name": "stdout",
     "output_type": "stream",
     "text": [
      "['_CHUNK_SIZE', '__class__', '__del__', '__delattr__', '__dict__', '__dir__', '__doc__', '__enter__', '__eq__', '__exit__', '__format__', '__ge__', '__getattribute__', '__getstate__', '__gt__', '__hash__', '__init__', '__init_subclass__', '__iter__', '__le__', '__lt__', '__ne__', '__new__', '__next__', '__reduce__', '__reduce_ex__', '__repr__', '__setattr__', '__sizeof__', '__str__', '__subclasshook__', '_checkClosed', '_checkReadable', '_checkSeekable', '_checkWritable', '_finalizing', 'buffer', 'close', 'closed', 'detach', 'encoding', 'errors', 'fileno', 'flush', 'isatty', 'line_buffering', 'mode', 'name', 'newlines', 'read', 'readable', 'readline', 'readlines', 'reconfigure', 'seek', 'seekable', 'tell', 'truncate', 'writable', 'write', 'write_through', 'writelines']\n"
     ]
    }
   ],
   "source": [
    "print(dir(fw))"
   ]
  },
  {
   "cell_type": "code",
   "execution_count": 28,
   "metadata": {},
   "outputs": [],
   "source": [
    "with open(\"DataFiles/sample.text\",\"a\") as fa:\n",
    "    fa.write(\"\\nThis is sample line\")"
   ]
  },
  {
   "cell_type": "code",
   "execution_count": 30,
   "metadata": {},
   "outputs": [],
   "source": [
    "with open(\"DataFiles/in.text\",\"x\") as fx:\n",
    "    fx.write(\"\\nThis is sample line\")"
   ]
  },
  {
   "cell_type": "code",
   "execution_count": 8,
   "metadata": {},
   "outputs": [
    {
     "name": "stdout",
     "output_type": "stream",
     "text": [
      "3 4\n"
     ]
    }
   ],
   "source": [
    "with open(\"DataFiles/Input.doc\",\"a\") as faa:\n",
    "    k=input()\n",
    "    faa.write(k+\"\\n\")"
   ]
  },
  {
   "cell_type": "code",
   "execution_count": 2,
   "metadata": {},
   "outputs": [],
   "source": [
    "with open(\"DataFiles/Input.text\",\"r\") as frr:\n",
    "    p=frr.readlines()\n",
    "    m=''\n",
    "    for i in p:\n",
    "        mn=i.split(\"\\n\")[0]\n",
    "        j=mn.split()\n",
    "        with open(\"DataFiles/output.text\",\"w\") as fww:\n",
    "            s=int(j[0]+j[1])\n",
    "            m=m+str(s)+\"\\n\"\n",
    "            #print(s)\n",
    "            fww.write(m)"
   ]
  },
  {
   "cell_type": "code",
   "execution_count": null,
   "metadata": {},
   "outputs": [],
   "source": []
  }
 ],
 "metadata": {
  "kernelspec": {
   "display_name": "Python 3",
   "language": "python",
   "name": "python3"
  },
  "language_info": {
   "codemirror_mode": {
    "name": "ipython",
    "version": 3
   },
   "file_extension": ".py",
   "mimetype": "text/x-python",
   "name": "python",
   "nbconvert_exporter": "python",
   "pygments_lexer": "ipython3",
   "version": "3.7.4"
  }
 },
 "nbformat": 4,
 "nbformat_minor": 4
}
