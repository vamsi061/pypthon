{
 "cells": [
  {
   "cell_type": "markdown",
   "metadata": {},
   "source": [
    "Input.text\n",
    " "
   ]
  },
  {
   "cell_type": "code",
   "execution_count": 77,
   "metadata": {},
   "outputs": [
    {
     "name": "stdout",
     "output_type": "stream",
     "text": [
      "21 7\n"
     ]
    }
   ],
   "source": [
    "with open(\"DataFiles/input1.text\",\"a\") as ft:\n",
    "    p = input()\n",
    "    ft.write(p+\"\\n\")"
   ]
  },
  {
   "cell_type": "code",
   "execution_count": 39,
   "metadata": {},
   "outputs": [
    {
     "name": "stdout",
     "output_type": "stream",
     "text": [
      "5 10\n"
     ]
    }
   ],
   "source": [
    "n=input()\n",
    "t=int(n[0])\n"
   ]
  },
  {
   "cell_type": "code",
   "execution_count": 45,
   "metadata": {},
   "outputs": [
    {
     "name": "stdout",
     "output_type": "stream",
     "text": [
      "2 2\n",
      "2 X 01 = 02\n",
      "2 X 02 = 04\n"
     ]
    }
   ],
   "source": [
    "n=input().split()\n",
    "t=int(n[0])\n",
    "r=int(n[1])\n",
    "for i in range(1,r+1):\n",
    "    print(\"{} X {:02} = {:02}\".format(t,i,t*i))"
   ]
  },
  {
   "cell_type": "code",
   "execution_count": 72,
   "metadata": {},
   "outputs": [],
   "source": [
    "with open(\"DataFiles/input1.text\",\"r\") as fr:\n",
    "    r=fr.readlines()\n",
    "    m=\"\"\n",
    "    for t in r:\n",
    "        y=t.split(\"\\n\")[0]\n",
    "        p=y.split()\n",
    "        ta=int(p[0])\n",
    "        ra=int(p[1])\n",
    "        with open(\"DataFiles/output1.text\",\"w\") as fp:    \n",
    "            for j in range(1,ra+1):\n",
    "                m=m+\"{} X {:02} = {:02}\".format(ta,j,ta*j)+\"\\n\"\n",
    "            fp.write(m)"
   ]
  },
  {
   "cell_type": "code",
   "execution_count": 78,
   "metadata": {},
   "outputs": [],
   "source": [
    "with open(\"DataFiles/input1.text\",\"r\") as fr:\n",
    "    r=fr.readlines()\n",
    "    with open(\"DataFiles/output1.text\",\"w\") as fp:\n",
    "        for t in r:\n",
    "            y=t.split(\"\\n\")[0]\n",
    "            p=y.split()\n",
    "            ta=int(p[0])\n",
    "            ra=int(p[1])\n",
    "            m=\"\"\n",
    "            for j in range(1,ra+1):\n",
    "                m=m+\"{} X {:02} = {:02}\".format(ta,j,ta*j)+\"\\n\"\n",
    "            fp.write(m+\"\\n\")"
   ]
  },
  {
   "cell_type": "markdown",
   "metadata": {},
   "source": [
    "studentsmarks.text:\n",
    "    -------------------------------------------------------------------\n",
    "    |s.no |  name |  Maths |  Physics |   Chemistry |   Hindi  | Telugu|\n",
    "    --------------------------------------------------------------------\n",
    "    |01    | Raju  | 45     | 56      |     67      |     56   |   78  |\n",
    "    |02    | Suresh| 50     | 67      |     90      |     45   |   23  |\n",
    "    --------------------------------------------------------------------\n",
    "    \n",
    "Studentsgrade.text\n",
    "    s.no    name   total  Grade\n",
    "    01      suresh 450      A"
   ]
  },
  {
   "cell_type": "code",
   "execution_count": null,
   "metadata": {},
   "outputs": [],
   "source": []
  }
 ],
 "metadata": {
  "kernelspec": {
   "display_name": "Python 3",
   "language": "python",
   "name": "python3"
  },
  "language_info": {
   "codemirror_mode": {
    "name": "ipython",
    "version": 3
   },
   "file_extension": ".py",
   "mimetype": "text/x-python",
   "name": "python",
   "nbconvert_exporter": "python",
   "pygments_lexer": "ipython3",
   "version": "3.7.4"
  }
 },
 "nbformat": 4,
 "nbformat_minor": 4
}
