{
 "cells": [
  {
   "cell_type": "markdown",
   "metadata": {},
   "source": [
    "studentsmarks.text:\n",
    "    -------------------------------------------------------------------\n",
    "    |s.no |  name |  Maths |  Physics |   Chemistry |   Hindi  | Telugu|\n",
    "    --------------------------------------------------------------------\n",
    "    |01    | Raju  | 45     | 56      |     67      |     56   |   78  |\n",
    "    |02    | Suresh| 50     | 67      |     90      |     45   |   23  |\n",
    "    --------------------------------------------------------------------\n",
    "    \n",
    "Studentsgrade.text\n",
    "    s.no    name   total  Grade\n",
    "    01      suresh 450      A"
   ]
  },
  {
   "cell_type": "markdown",
   "metadata": {},
   "source": [
    "-> Git installations\n",
    "-> Creation of Github Profile"
   ]
  },
  {
   "cell_type": "code",
   "execution_count": null,
   "metadata": {},
   "outputs": [],
   "source": [
    "-> Local -> Github:\n",
    "    Online Github:\n",
    "        -> respository create"
   ]
  }
 ],
 "metadata": {
  "kernelspec": {
   "display_name": "Python 3",
   "language": "python",
   "name": "python3"
  },
  "language_info": {
   "codemirror_mode": {
    "name": "ipython",
    "version": 3
   },
   "file_extension": ".py",
   "mimetype": "text/x-python",
   "name": "python",
   "nbconvert_exporter": "python",
   "pygments_lexer": "ipython3",
   "version": "3.7.4"
  }
 },
 "nbformat": 4,
 "nbformat_minor": 4
}
