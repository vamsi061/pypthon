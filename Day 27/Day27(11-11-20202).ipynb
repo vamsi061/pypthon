{
 "cells": [
  {
   "cell_type": "markdown",
   "metadata": {},
   "source": [
    "```\n",
    "Functional arguments:\n",
    "    -> functions ?\n",
    "    -> type[user-defined,predefines]\n",
    "    -> user-Define[4 types -> C Languaue]\n",
    "    -> Argument passing -> 4 types\n",
    "                        -> required arguments -> argument(*)\n",
    "                        -> default arguments -> arguments(value => ?, function call => fixed)\n",
    "                        -> keyword arguments -> arguments(function call,calling -> variables == equal values)\n",
    "                        -> variable length arguments->arguments(value -> value to varibale,n number of values -> (iterator in function call,function[* tuple,**dictionary]))\n",
    "```"
   ]
  },
  {
   "cell_type": "markdown",
   "metadata": {},
   "source": [
    "### Anonymous Function or Functional Programming:\n",
    "- Lambda -> anonymous function(Keyword dosent use in this funciton careation)\n",
    "- It can be applicable for all Mathematical expression\n",
    "- Lambda can't use def keyword.It can be used in large applications to reduce the code\n",
    "- It can be implemented to comprehension or looping\n",
    "- It can be divided into three types they are:\n",
    "    - map\n",
    "    - filter\n",
    "    - reduce\n"
   ]
  },
  {
   "cell_type": "code",
   "execution_count": 7,
   "metadata": {},
   "outputs": [
    {
     "ename": "SyntaxError",
     "evalue": "invalid syntax (<ipython-input-7-e6ae50f09d49>, line 1)",
     "output_type": "error",
     "traceback": [
      "\u001b[1;36m  File \u001b[1;32m\"<ipython-input-7-e6ae50f09d49>\"\u001b[1;36m, line \u001b[1;32m1\u001b[0m\n\u001b[1;33m    ```\u001b[0m\n\u001b[1;37m    ^\u001b[0m\n\u001b[1;31mSyntaxError\u001b[0m\u001b[1;31m:\u001b[0m invalid syntax\n"
     ]
    }
   ],
   "source": [
    "```\n",
    "funciton syntax:\n",
    "    \n",
    "def funtion(arguments):\n",
    "    // Function doc_string\n",
    "    // statements\n",
    "    return return_value\n",
    "\n",
    "Lambda Syntax:\n",
    "\n",
    "lambda arguments: expressoin\n",
    "```"
   ]
  },
  {
   "cell_type": "code",
   "execution_count": 13,
   "metadata": {},
   "outputs": [
    {
     "name": "stdout",
     "output_type": "stream",
     "text": [
      "5\n",
      "4\n",
      "9\n"
     ]
    }
   ],
   "source": [
    "def add(a,b):\n",
    "    return a+b\n",
    "m=int(input())\n",
    "n=int(input())\n",
    "print(add(m,n))"
   ]
  },
  {
   "cell_type": "code",
   "execution_count": 17,
   "metadata": {},
   "outputs": [
    {
     "name": "stdout",
     "output_type": "stream",
     "text": [
      "5 \n",
      "2\n",
      "7\n"
     ]
    }
   ],
   "source": [
    "d=lambda a,b:a+b\n",
    "print(d(int(input()),int(input())))"
   ]
  },
  {
   "cell_type": "code",
   "execution_count": 18,
   "metadata": {},
   "outputs": [
    {
     "name": "stdout",
     "output_type": "stream",
     "text": [
      "5\n",
      "51\n",
      "3136\n"
     ]
    }
   ],
   "source": [
    "d = lambda a,b:a**2+b**2+2*a*b\n",
    "print(d(int(input()),int(input())))"
   ]
  },
  {
   "cell_type": "markdown",
   "metadata": {},
   "source": [
    "```\n",
    "Map:\n",
    "    -> It can be used to change the data type of an iterator\n",
    "    -> Sntax:\n",
    "       map(function,iterator) or map(datatype,iterator)\n",
    "    -> In map it outputs as either true or false\n",
    "```"
   ]
  },
  {
   "cell_type": "code",
   "execution_count": 20,
   "metadata": {},
   "outputs": [
    {
     "name": "stdout",
     "output_type": "stream",
     "text": [
      "5 4 5 3 4\n",
      "[5, 4, 5, 3, 4]\n"
     ]
    }
   ],
   "source": [
    "s = input().split()\n",
    "r=[]\n",
    "for l in s:\n",
    "    r.append(int(l))\n",
    "print(r)"
   ]
  },
  {
   "cell_type": "code",
   "execution_count": 25,
   "metadata": {},
   "outputs": [
    {
     "name": "stdout",
     "output_type": "stream",
     "text": [
      "45 4 3 3434 \n",
      "[45, 4, 3, 3434]\n"
     ]
    }
   ],
   "source": [
    "t=input().split()\n",
    "print(list(map(int,t)))"
   ]
  },
  {
   "cell_type": "code",
   "execution_count": 27,
   "metadata": {},
   "outputs": [
    {
     "name": "stdout",
     "output_type": "stream",
     "text": [
      "145 45 6 354 45 \n",
      "[145, 45, 6, 354, 45]\n"
     ]
    }
   ],
   "source": [
    "e = list(map(int,input().split()))\n",
    "print(e)"
   ]
  },
  {
   "cell_type": "code",
   "execution_count": 29,
   "metadata": {},
   "outputs": [
    {
     "name": "stdout",
     "output_type": "stream",
     "text": [
      "[True, False, True, False, True]\n"
     ]
    }
   ],
   "source": [
    "y = [6,7,8,9,8]\n",
    "r = list(map(lambda s:s%2==0,y))\n",
    "print(r)"
   ]
  },
  {
   "cell_type": "code",
   "execution_count": 35,
   "metadata": {},
   "outputs": [
    {
     "name": "stdout",
     "output_type": "stream",
     "text": [
      "4 5 3\n",
      "[True, False]\n"
     ]
    }
   ],
   "source": [
    "def mlt(u):\n",
    "    s=[]\n",
    "    for k in u:\n",
    "        if k%2==0:\n",
    "            s.append(True)\n",
    "    s.append(False)\n",
    "    return s\n",
    "r=list(map(int,input().split()))\n",
    "print(mlt(r))"
   ]
  },
  {
   "cell_type": "code",
   "execution_count": 41,
   "metadata": {},
   "outputs": [
    {
     "name": "stdout",
     "output_type": "stream",
     "text": [
      "3 4 5\n",
      "[True, False, False]\n"
     ]
    }
   ],
   "source": [
    "def Tml(h):\n",
    "    return h%3==0\n",
    "e=input().split()\n",
    "q=[]\n",
    "for m in e:\n",
    "    q.append(int(m))\n",
    "#print(Tml(q))\n",
    "print(list(map(Tml,q)))"
   ]
  },
  {
   "cell_type": "code",
   "execution_count": 42,
   "metadata": {},
   "outputs": [
    {
     "name": "stdout",
     "output_type": "stream",
     "text": [
      "3 4 5\n"
     ]
    },
    {
     "data": {
      "text/plain": [
       "[True, False, False]"
      ]
     },
     "execution_count": 42,
     "metadata": {},
     "output_type": "execute_result"
    }
   ],
   "source": [
    "list(map(lambda t:t%3==0,map(int,input().split())))"
   ]
  },
  {
   "cell_type": "markdown",
   "metadata": {},
   "source": [
    "```\n",
    "Filter:\n",
    "    -> It prints only True values to an iterator\n",
    "    -> Syntax:\n",
    "        filter(functon_name,iterator)\n",
    "```"
   ]
  },
  {
   "cell_type": "code",
   "execution_count": 44,
   "metadata": {},
   "outputs": [
    {
     "name": "stdout",
     "output_type": "stream",
     "text": [
      "3 6 9 \n",
      "[3, 6, 9]\n"
     ]
    }
   ],
   "source": [
    "def tmul(v):\n",
    "    return v%3==0\n",
    "j=list(map(int,input().split()))\n",
    "print(list(filter(tmul,j)))"
   ]
  },
  {
   "cell_type": "code",
   "execution_count": 45,
   "metadata": {},
   "outputs": [
    {
     "name": "stdout",
     "output_type": "stream",
     "text": [
      "3 4 5 6 7\n",
      "[3, 6]\n"
     ]
    }
   ],
   "source": [
    "print(list(filter(lambda a:a%3==0,map(int,input().split()))))"
   ]
  },
  {
   "cell_type": "code",
   "execution_count": 47,
   "metadata": {},
   "outputs": [
    {
     "name": "stdout",
     "output_type": "stream",
     "text": [
      "2 5 2 2  5 22 \n",
      "[2, 2, 2]\n"
     ]
    }
   ],
   "source": [
    "print(list(filter(lambda e:e==2,map(int,input().split()))))"
   ]
  },
  {
   "cell_type": "code",
   "execution_count": 55,
   "metadata": {},
   "outputs": [
    {
     "name": "stdout",
     "output_type": "stream",
     "text": [
      "3 4 5 2 78 92 45 20 19 56 100\n",
      "[True, True, True, True, False]\n"
     ]
    }
   ],
   "source": [
    "al=list(map(lambda r:r<10,filter(lambda e:e<20,map(int,input().split()))))\n",
    "print(list(filter(lambda r:r<10,al)))"
   ]
  },
  {
   "cell_type": "markdown",
   "metadata": {},
   "source": [
    "``` \n",
    "reduce:\n",
    "    -> It prints or else it returns only single value\n",
    "    -> syntax:\n",
    "        reduce(function_name,iterator)\n",
    "    -> It can be accessible by using import statement of functools\n",
    "```"
   ]
  },
  {
   "cell_type": "code",
   "execution_count": 59,
   "metadata": {},
   "outputs": [
    {
     "name": "stdout",
     "output_type": "stream",
     "text": [
      "23 40 5 67\n",
      "[23, 40, 67]\n",
      "130\n"
     ]
    }
   ],
   "source": [
    "from functools import reduce\n",
    "r=list(filter(lambda f:f>20,map(int,input().split())))\n",
    "print(r)\n",
    "print(reduce(lambda x,y:x+y,r))"
   ]
  },
  {
   "cell_type": "code",
   "execution_count": 61,
   "metadata": {},
   "outputs": [
    {
     "name": "stdout",
     "output_type": "stream",
     "text": [
      "23 40 5 67\n",
      "130\n"
     ]
    }
   ],
   "source": [
    "print(reduce(lambda x,y:x+y,filter(lambda f:f>20,map(int,input().split()))))"
   ]
  },
  {
   "cell_type": "markdown",
   "metadata": {},
   "source": [
    "```\n",
    "Lambda,map,filter,reduce:\n",
    "    https://medium.com/@goutomroy/python-lambda-map-filter-reduce-261f29561fcc\n",
    "    https://stackabuse.com/map-filter-and-reduce-in-python-with-examples/\n",
    "Functonal arguments:\n",
    "    https://www.tutorialspoint.com/python/python_functions.htm\n",
    "\n",
    "```"
   ]
  },
  {
   "cell_type": "code",
   "execution_count": null,
   "metadata": {},
   "outputs": [],
   "source": []
  }
 ],
 "metadata": {
  "kernelspec": {
   "display_name": "Python 3",
   "language": "python",
   "name": "python3"
  },
  "language_info": {
   "codemirror_mode": {
    "name": "ipython",
    "version": 3
   },
   "file_extension": ".py",
   "mimetype": "text/x-python",
   "name": "python",
   "nbconvert_exporter": "python",
   "pygments_lexer": "ipython3",
   "version": "3.7.4"
  }
 },
 "nbformat": 4,
 "nbformat_minor": 4
}
