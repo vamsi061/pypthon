{
 "cells": [
  {
   "cell_type": "markdown",
   "metadata": {},
   "source": [
    "## OOP'S(Object Oriented Programming):\n",
    "- here we will split a large program into sub parts\n",
    "- use of this oops is hidding data like packages\n",
    "- oops provide better security \n",
    "### properties\n",
    "- class\n",
    "- object \n",
    "- method\n",
    "- encapsulations\n",
    "- abstraction"
   ]
  },
  {
   "cell_type": "markdown",
   "metadata": {},
   "source": [
    "### class:\n",
    "- class is blue print of the object\n",
    "- class is collection of member variable(objects) and member functions(methods).\n",
    "```\n",
    "class class_name:\n",
    "    member variables\n",
    "    member function\n",
    "```\n",
    "#### rules for defing a class:\n",
    "- first letter is capital or class name should start with caps\n",
    "- should use a class keyword\n",
    "- should not contains spaces\n",
    "- the class name should not be started with numbers"
   ]
  },
  {
   "cell_type": "code",
   "execution_count": 1,
   "metadata": {},
   "outputs": [
    {
     "name": "stdout",
     "output_type": "stream",
     "text": [
      "<class 'int'>\n"
     ]
    }
   ],
   "source": [
    "a=10\n",
    "print(type(a))"
   ]
  },
  {
   "cell_type": "markdown",
   "metadata": {},
   "source": [
    "# functions and methods\n",
    "- in oop functions are called as methods\n",
    "```\n",
    "def add():\n",
    "    return 4+54\n",
    "class Hello:\n",
    "    def add():\n",
    "        return 4+5\n",
    "```"
   ]
  },
  {
   "cell_type": "code",
   "execution_count": 9,
   "metadata": {},
   "outputs": [
    {
     "name": "stdout",
     "output_type": "stream",
     "text": [
      "vamsi\n",
      "12\n",
      "i am from printInfo()\n",
      "None\n"
     ]
    }
   ],
   "source": [
    "class MyInfo:\n",
    "    name=\"vamsi\"\n",
    "    rollno=12\n",
    "    def printInfo():\n",
    "        print(\"i am from printInfo()\")\n",
    "print(MyInfo.name)\n",
    "print(MyInfo.rollno)\n",
    "print(MyInfo.printInfo())"
   ]
  },
  {
   "cell_type": "markdown",
   "metadata": {},
   "source": [
    "## Objects\n",
    "- instance of a class\n",
    "- real time entity\n",
    "```\n",
    "obj_name = calss_name\n",
    "```"
   ]
  },
  {
   "cell_type": "code",
   "execution_count": 12,
   "metadata": {},
   "outputs": [
    {
     "name": "stdout",
     "output_type": "stream",
     "text": [
      "vamsi\n",
      "i am from printInfo()\n",
      "None\n"
     ]
    }
   ],
   "source": [
    "class MyInfo:\n",
    "    name=\"vamsi\"\n",
    "    rollno=12\n",
    "    \n",
    "    def printInfo():\n",
    "        print(\"i am from printInfo()\")\n",
    "obj=MyInfo\n",
    "print(obj.name)\n",
    "print(obj.printInfo())"
   ]
  },
  {
   "cell_type": "code",
   "execution_count": 18,
   "metadata": {},
   "outputs": [
    {
     "name": "stdout",
     "output_type": "stream",
     "text": [
      "11\n",
      "\n",
      "    hi welcome to MyMath class,\n",
      "    here we implemented add() for that add u have to pass 2 parms.\n",
      "    \n"
     ]
    }
   ],
   "source": [
    "class MyMath:\n",
    "    \n",
    "    '''\n",
    "    hi welcome to MyMath class,\n",
    "    here we implemented add() for that add u have to pass 2 parms.\n",
    "    '''\n",
    "    def add(n1, n2):\n",
    "        return n1 + n2\n",
    "    \n",
    "obj = MyMath\n",
    "print(obj.add(5,6))\n",
    "print(obj.__doc__)"
   ]
  },
  {
   "cell_type": "code",
   "execution_count": 19,
   "metadata": {},
   "outputs": [
    {
     "name": "stdout",
     "output_type": "stream",
     "text": [
      "-1\n",
      "\n",
      "    hi welcome to MyMath class,\n",
      "    here we implemented add() for that add u have to pass 2 parms.\n",
      "    \n"
     ]
    }
   ],
   "source": [
    "class MyMath:\n",
    "    \n",
    "    '''\n",
    "    hi welcome to MyMath class,\n",
    "    here we implemented dub() for that add u have to pass 2 parms.\n",
    "    '''\n",
    "    def sub(n1, n2):\n",
    "        return n1 - n2\n",
    "    \n",
    "obj = MyMath\n",
    "print(obj.sub(5,6))\n",
    "print(obj.__doc__)"
   ]
  },
  {
   "cell_type": "code",
   "execution_count": 28,
   "metadata": {},
   "outputs": [
    {
     "name": "stdout",
     "output_type": "stream",
     "text": [
      "30\n",
      "\n",
      "    hi welcome to MyMath class,\n",
      "    here we implemented mul() for that add u have to pass 2 parms.\n",
      "    \n"
     ]
    }
   ],
   "source": [
    "class MyMath:\n",
    "    \n",
    "    '''\n",
    "    hi welcome to MyMath class,\n",
    "    here we implemented mul() for that add u have to pass 2 parms.\n",
    "    '''\n",
    "    def mul(n1, n2):\n",
    "        return n1 * n2\n",
    "    \n",
    "obj = MyMath\n",
    "print(obj.mul(5,6))\n",
    "print(obj.__doc__)"
   ]
  },
  {
   "cell_type": "code",
   "execution_count": 25,
   "metadata": {},
   "outputs": [
    {
     "name": "stdout",
     "output_type": "stream",
     "text": [
      "0.8333333333333334\n",
      "\n",
      "    hi welcome to MyMath class,\n",
      "    here we implemented div() for that add u have to pass 2 parms.\n",
      "    \n"
     ]
    }
   ],
   "source": [
    "class MyMath:\n",
    "    \n",
    "    '''\n",
    "    hi welcome to MyMath class,\n",
    "    here we implemented div() for that add u have to pass 2 parms.\n",
    "    '''\n",
    "    def div(n1, n2):\n",
    "        return n1 / n2\n",
    "    \n",
    "obj = MyMath\n",
    "print(obj.div(5,6))\n",
    "print(obj.__doc__)"
   ]
  },
  {
   "cell_type": "code",
   "execution_count": 33,
   "metadata": {},
   "outputs": [
    {
     "name": "stdout",
     "output_type": "stream",
     "text": [
      "11\n",
      "-1\n",
      "30\n"
     ]
    }
   ],
   "source": [
    "class MyMath:\n",
    "    \n",
    "    '''\n",
    "    hi welcome to MyMath class,\n",
    "    here we implemented add() for that add u have to pass 2 parms.\n",
    "    '''\n",
    "    \n",
    "    def add(n1, n2):\n",
    "        return n1 + n2\n",
    "    def sub(n1, n2):\n",
    "        return n1 - n2\n",
    "    def mul(n1, n2):\n",
    "        return n1 * n2\n",
    "    \n",
    "obj = MyMath\n",
    "print(obj.add(5,6))\n",
    "print(obj.sub(5,6))\n",
    "print(obj.mul(5,6))"
   ]
  },
  {
   "cell_type": "markdown",
   "metadata": {},
   "source": [
    "## constructor:\n",
    "- without using object we will call constructor method(when object is created )\n",
    "- in python __init__(self) method will work as a constructor\n",
    "    - default and parametered"
   ]
  },
  {
   "cell_type": "code",
   "execution_count": 43,
   "metadata": {},
   "outputs": [],
   "source": [
    "class MyMath:\n",
    "    '''\n",
    "    hi welcome to MyMath class,\n",
    "    here we implement add() for that add u have pass 2 parms.\n",
    "    '''\n",
    "    def _init_(self,):\n",
    "        \n",
    "        def add(n1, n2):\n",
    "            return n1 + n2\n",
    "        def sub(n1, n2):\n",
    "            return n1 - n2\n",
    "        def mul(n1, n2):\n",
    "            return n1 * n2"
   ]
  },
  {
   "cell_type": "code",
   "execution_count": 37,
   "metadata": {},
   "outputs": [
    {
     "name": "stdout",
     "output_type": "stream",
     "text": [
      "11\n"
     ]
    },
    {
     "ename": "AttributeError",
     "evalue": "type object 'MyMath' has no attribute '_doc_'",
     "output_type": "error",
     "traceback": [
      "\u001b[1;31m---------------------------------------------------------------------------\u001b[0m",
      "\u001b[1;31mAttributeError\u001b[0m                            Traceback (most recent call last)",
      "\u001b[1;32m<ipython-input-37-aea818f3ab1b>\u001b[0m in \u001b[0;36m<module>\u001b[1;34m\u001b[0m\n\u001b[0;32m     10\u001b[0m \u001b[0mobj\u001b[0m \u001b[1;33m=\u001b[0m \u001b[0mMyMath\u001b[0m\u001b[1;33m\u001b[0m\u001b[1;33m\u001b[0m\u001b[0m\n\u001b[0;32m     11\u001b[0m \u001b[0mprint\u001b[0m\u001b[1;33m(\u001b[0m\u001b[0mobj\u001b[0m\u001b[1;33m.\u001b[0m\u001b[0madd\u001b[0m\u001b[1;33m(\u001b[0m\u001b[1;36m5\u001b[0m\u001b[1;33m,\u001b[0m\u001b[1;36m6\u001b[0m\u001b[1;33m)\u001b[0m\u001b[1;33m)\u001b[0m\u001b[1;33m\u001b[0m\u001b[1;33m\u001b[0m\u001b[0m\n\u001b[1;32m---> 12\u001b[1;33m \u001b[0mprint\u001b[0m\u001b[1;33m(\u001b[0m\u001b[0mMyMath\u001b[0m\u001b[1;33m.\u001b[0m\u001b[0m_doc_\u001b[0m\u001b[1;33m)\u001b[0m\u001b[1;33m\u001b[0m\u001b[1;33m\u001b[0m\u001b[0m\n\u001b[0m",
      "\u001b[1;31mAttributeError\u001b[0m: type object 'MyMath' has no attribute '_doc_'"
     ]
    }
   ],
   "source": [
    "class MyMath():\n",
    "    '''\n",
    "    hi welcome to MyMath class,\n",
    "    here we implement add() for that add u have pass 2 parms.\n",
    "    '''\n",
    "    \n",
    "    def add(n1, n2):\n",
    "        return n1 + n2\n",
    "    \n",
    "obj = MyMath\n",
    "print(obj.add(5,6))\n",
    "print(MyMath._doc_)"
   ]
  },
  {
   "cell_type": "code",
   "execution_count": 44,
   "metadata": {},
   "outputs": [
    {
     "name": "stdout",
     "output_type": "stream",
     "text": [
      "5   9\n",
      "14\n"
     ]
    }
   ],
   "source": [
    "class MyMath():\n",
    "    \n",
    "    '''\n",
    "    hi welcome to MyMath class,\n",
    "    here we implemented add() for that add u have to pass 2 parms.\n",
    "    '''\n",
    "    def __init__(self,n1,n2):\n",
    "        self.n1 = n1\n",
    "        self.n2 = n2\n",
    "        print(self.n1,' ',self.n2)\n",
    "    def add(self):\n",
    "        return self.n1 + self.n2\n",
    "obj = MyMath(5,9)\n",
    "print(obj.add())"
   ]
  },
  {
   "cell_type": "code",
   "execution_count": null,
   "metadata": {},
   "outputs": [],
   "source": []
  }
 ],
 "metadata": {
  "kernelspec": {
   "display_name": "Python 3",
   "language": "python",
   "name": "python3"
  },
  "language_info": {
   "codemirror_mode": {
    "name": "ipython",
    "version": 3
   },
   "file_extension": ".py",
   "mimetype": "text/x-python",
   "name": "python",
   "nbconvert_exporter": "python",
   "pygments_lexer": "ipython3",
   "version": "3.7.4"
  }
 },
 "nbformat": 4,
 "nbformat_minor": 4
}
