{
 "cells": [
  {
   "cell_type": "markdown",
   "metadata": {},
   "source": [
    "# Today Concepts\n",
    "## 16-09-2020\n",
    "### Jupyter insatallaton\n",
    "- to insatll Jupyter we have to run a command pip install jupyter\n",
    "- to open jupyter we have to run a cmd in command prompt i.e., jupyter notebook\n",
    "\n",
    "### Main Heading\n",
    "- #### sub heading1\n",
    "  - ##### sub heading2 \n",
    "       - ##### sub heading 3\n",
    "<h2>I am h2 tag</h2>\n",
    "<p>I am p tag</p>\n",
    "<a href=''>I am Anchor tag</a>\n",
    "<img src=\"1024px-Python_logo_and_wordmark.png\"/>\n",
    "<table border=1> \n",
    "    <th colspan=2 align='left'>STAFF</th>\n",
    "    <tr><td>Name</td><td>District</td></tr>\n",
    "    <tr><td>Badulla</td><td>Kadapa</td></tr>\n",
    "    <tr><td>Kalyan</td><td>Guntur</td></tr>\n",
    "    <tr><td>Hanuman</td><td>NULL</td></tr>\n",
    "</table>"
   ]
  },
  {
   "cell_type": "code",
   "execution_count": 10,
   "metadata": {
    "scrolled": true
   },
   "outputs": [
    {
     "name": "stdout",
     "output_type": "stream",
     "text": [
      "hi hello\n",
      "i am using jupyter notebook\n",
      "45\n",
      "i am  from apssdc\n"
     ]
    },
    {
     "data": {
      "text/plain": [
       "12"
      ]
     },
     "execution_count": 10,
     "metadata": {},
     "output_type": "execute_result"
    }
   ],
   "source": [
    "print(\"hi hello\")\n",
    "print('i am using jupyter notebook')\n",
    "a=45\n",
    "print(a)\n",
    "print('i am  from apssdc')\n",
    "4+8"
   ]
  },
  {
   "cell_type": "code",
   "execution_count": null,
   "metadata": {},
   "outputs": [],
   "source": []
  }
 ],
 "metadata": {
  "kernelspec": {
   "display_name": "Python 3",
   "language": "python",
   "name": "python3"
  },
  "language_info": {
   "codemirror_mode": {
    "name": "ipython",
    "version": 3
   },
   "file_extension": ".py",
   "mimetype": "text/x-python",
   "name": "python",
   "nbconvert_exporter": "python",
   "pygments_lexer": "ipython3",
   "version": "3.7.4"
  }
 },
 "nbformat": 4,
 "nbformat_minor": 4
}
