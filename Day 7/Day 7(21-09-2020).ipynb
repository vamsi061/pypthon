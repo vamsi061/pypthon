{
 "cells": [
  {
   "cell_type": "code",
   "execution_count": 60,
   "metadata": {},
   "outputs": [
    {
     "name": "stdout",
     "output_type": "stream",
     "text": [
      "Enter a number 5\n",
      "2 x 1 = 2\n",
      "\n",
      "2 x 2 = 4\n",
      "\n",
      "  3 x 1 = 3\n",
      "\n",
      "3 x 2 = 6\n",
      "\n",
      "  4 x 1 = 4\n",
      "\n",
      "4 x 2 = 8\n",
      "\n",
      "  5 x 1 = 5\n",
      "\n",
      "5 x 2 = 10\n",
      "\n",
      "  "
     ]
    }
   ],
   "source": [
    "# task1\n",
    "n=int(input(\"Enter a number \"))\n",
    "for i in range(2,n+1):\n",
    "    for j in range(1,3):\n",
    "            print(i,'x',j,'=',i*j)\n",
    "            print()\n",
    "    print(end='  ')\n",
    "\n",
    "        "
   ]
  },
  {
   "cell_type": "markdown",
   "metadata": {},
   "source": [
    "## Functions\n",
    "- Used to perform a particualr task\n",
    "- it is  set of functions\n",
    "- reuse the code\n",
    "- we can pass arguments and we can return results\n",
    "- we 2 diff functions\n",
    "    - userdefined functions\n",
    "    - predefined or library or built functions\n",
    "### User defined functions:\n",
    "    - user can defined his own functionality\n",
    "    - syntax:\n",
    "        def function_name(param1,param2,........):\n",
    "                   body of loop\n",
    "    - we can implements this UserDefined functions in 4 differents ways\n",
    "    - those are\n",
    "        - without arguments and without return type\n",
    "        - with argument and with return type\n",
    "        - without arguments and with return type\n",
    "        - with argiment adn withour return type"
   ]
  },
  {
   "cell_type": "code",
   "execution_count": 5,
   "metadata": {},
   "outputs": [
    {
     "name": "stdout",
     "output_type": "stream",
     "text": [
      "I am from hello\n"
     ]
    }
   ],
   "source": [
    "# without arguments and without return type\n",
    "def hello():\n",
    "    print(\"I am from hello\")\n",
    "hello()"
   ]
  },
  {
   "cell_type": "code",
   "execution_count": 16,
   "metadata": {},
   "outputs": [
    {
     "data": {
      "text/plain": [
       "'I am from Hello1'"
      ]
     },
     "execution_count": 16,
     "metadata": {},
     "output_type": "execute_result"
    }
   ],
   "source": [
    "# withour arguments and with parameters\n",
    "def hello1():\n",
    "    return 'I am from Hello1'\n",
    "hello1()"
   ]
  },
  {
   "cell_type": "code",
   "execution_count": 17,
   "metadata": {},
   "outputs": [],
   "source": [
    "# with arguments and withour return type\n",
    "def add(n1,n2):\n",
    "    print('Sum of n1 and n2 is: ',n1+n2)"
   ]
  },
  {
   "cell_type": "code",
   "execution_count": 19,
   "metadata": {},
   "outputs": [
    {
     "name": "stdout",
     "output_type": "stream",
     "text": [
      "Sum of n1 and n2 is:  100\n"
     ]
    }
   ],
   "source": [
    "a,b=45,55\n",
    "add(45,55)"
   ]
  },
  {
   "cell_type": "code",
   "execution_count": 20,
   "metadata": {},
   "outputs": [],
   "source": [
    "# with arguments and with return type\n",
    "def mul(x1,x2):\n",
    "    return x1*x2"
   ]
  },
  {
   "cell_type": "code",
   "execution_count": 26,
   "metadata": {},
   "outputs": [
    {
     "name": "stdout",
     "output_type": "stream",
     "text": [
      "Mul of n1 and n2 is  20\n"
     ]
    }
   ],
   "source": [
    "n1,n2=5,4\n",
    "rs=mul(n1,n2)\n",
    "print('Mul of n1 and n2 is ',rs)"
   ]
  },
  {
   "cell_type": "code",
   "execution_count": 28,
   "metadata": {},
   "outputs": [
    {
     "name": "stdout",
     "output_type": "stream",
     "text": [
      "Enter a value5\n",
      "Enter b value5\n"
     ]
    }
   ],
   "source": [
    "# implement function on all arithmentic operators\n",
    "def add(a,b):\n",
    "    return a+b\n",
    "def sub(a,b):\n",
    "    return a-b\n",
    "def mul(a,b):\n",
    "    return a*b\n",
    "def div(a,b):\n",
    "    return a/b\n",
    "def mod(a,b):\n",
    "    return(a%b)\n",
    "def floor(a,b):\n",
    "    return(a//b)\n",
    "def unk(a,b):\n",
    "    return (a**b)"
   ]
  },
  {
   "cell_type": "code",
   "execution_count": 34,
   "metadata": {},
   "outputs": [
    {
     "name": "stdout",
     "output_type": "stream",
     "text": [
      "Enter a value4\n",
      "Enter b value6\n",
      "add 10\n"
     ]
    }
   ],
   "source": [
    "c=int(input('Enter a value'))\n",
    "d=int(input('Enter b value'))\n",
    "rs1=add(c,d)\n",
    "print('add',rs1)"
   ]
  },
  {
   "cell_type": "markdown",
   "metadata": {},
   "source": [
    "### predefined function\n",
    "- alredy implemented in proigrammming\n",
    "- pow,range\n",
    "- print,input,type,chr,ord,help,abs,float,int,str,max,min,sum etc"
   ]
  },
  {
   "cell_type": "code",
   "execution_count": 35,
   "metadata": {},
   "outputs": [
    {
     "name": "stdout",
     "output_type": "stream",
     "text": [
      "\n",
      "Welcome to Python 3.7's help utility!\n",
      "\n",
      "If this is your first time using Python, you should definitely check out\n",
      "the tutorial on the Internet at https://docs.python.org/3.7/tutorial/.\n",
      "\n",
      "Enter the name of any module, keyword, or topic to get help on writing\n",
      "Python programs and using Python modules.  To quit this help utility and\n",
      "return to the interpreter, just type \"quit\".\n",
      "\n",
      "To get a list of available modules, keywords, symbols, or topics, type\n",
      "\"modules\", \"keywords\", \"symbols\", or \"topics\".  Each module also comes\n",
      "with a one-line summary of what it does; to list the modules whose name\n",
      "or summary contain a given string such as \"spam\", type \"modules spam\".\n",
      "\n",
      "help> Functions\n",
      "No Python documentation found for 'Functions'.\n",
      "Use help() to get the interactive help utility.\n",
      "Use help(str) for help on the str class.\n",
      "\n",
      "help> \n",
      "\n",
      "You are now leaving help and returning to the Python interpreter.\n",
      "If you want to ask for help on a particular object directly from the\n",
      "interpreter, you can type \"help(object)\".  Executing \"help('string')\"\n",
      "has the same effect as typing a particular string at the help> prompt.\n"
     ]
    }
   ],
   "source": [
    "help()"
   ]
  },
  {
   "cell_type": "code",
   "execution_count": null,
   "metadata": {},
   "outputs": [],
   "source": []
  }
 ],
 "metadata": {
  "kernelspec": {
   "display_name": "Python 3",
   "language": "python",
   "name": "python3"
  },
  "language_info": {
   "codemirror_mode": {
    "name": "ipython",
    "version": 3
   },
   "file_extension": ".py",
   "mimetype": "text/x-python",
   "name": "python",
   "nbconvert_exporter": "python",
   "pygments_lexer": "ipython3",
   "version": "3.7.4"
  }
 },
 "nbformat": 4,
 "nbformat_minor": 4
}
