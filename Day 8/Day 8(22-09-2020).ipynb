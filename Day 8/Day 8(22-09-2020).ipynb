{
 "cells": [
  {
   "cell_type": "markdown",
   "metadata": {},
   "source": [
    "- check given is positive nuber or negative"
   ]
  },
  {
   "cell_type": "code",
   "execution_count": 3,
   "metadata": {},
   "outputs": [
    {
     "name": "stdout",
     "output_type": "stream",
     "text": [
      "Enter a number0\n",
      "0 is positive\n"
     ]
    }
   ],
   "source": [
    "num=int(input(\"Enter a number\"))\n",
    "if(num>=0):\n",
    "    print(num,'is positive')\n",
    "else:\n",
    "    print(num,'is negative')"
   ]
  },
  {
   "cell_type": "code",
   "execution_count": 9,
   "metadata": {},
   "outputs": [
    {
     "name": "stdout",
     "output_type": "stream",
     "text": [
      "Enter a number2\n",
      "2 is even number\n"
     ]
    }
   ],
   "source": [
    "num=int(input('Enter a number'))\n",
    "if(num%2==0):\n",
    "    print(num,'is even number')\n",
    "else:\n",
    "    print(num,'is odd number')"
   ]
  },
  {
   "cell_type": "code",
   "execution_count": 17,
   "metadata": {},
   "outputs": [
    {
     "name": "stdout",
     "output_type": "stream",
     "text": [
      "positive\n"
     ]
    }
   ],
   "source": [
    "def even(n1):\n",
    "    if(n1>0):\n",
    "        print('positive')\n",
    "even(6)"
   ]
  },
  {
   "cell_type": "code",
   "execution_count": 21,
   "metadata": {},
   "outputs": [
    {
     "name": "stdout",
     "output_type": "stream",
     "text": [
      "enter a number5\n",
      "odd\n",
      "positive\n"
     ]
    }
   ],
   "source": [
    "n1=int(input('enter a number'))\n",
    "def even_odd(n1):\n",
    "    if(a%2==0):\n",
    "        print('even')\n",
    "    else:\n",
    "        print('odd')\n",
    "def pos_neg(n1):\n",
    "    if(n1>=0):\n",
    "        print('positive')\n",
    "    else:\n",
    "        print('negative')\n",
    "even_odd(n1)    \n",
    "pos_neg(n1)"
   ]
  },
  {
   "cell_type": "code",
   "execution_count": 12,
   "metadata": {},
   "outputs": [
    {
     "name": "stdout",
     "output_type": "stream",
     "text": [
      "enter a number 6\n",
      "even\n",
      "None\n"
     ]
    }
   ],
   "source": [
    "# TASK 1\n",
    "def even_odd(n1):\n",
    "    if(n1%2==0):\n",
    "        print('even')\n",
    "    else:\n",
    "        print('odd')\n",
    "\n",
    "n1=int(input('enter a number '))\n",
    "rs=even_odd(n1) \n",
    "print(rs)"
   ]
  },
  {
   "cell_type": "markdown",
   "metadata": {},
   "source": [
    "# task 1"
   ]
  },
  {
   "cell_type": "code",
   "execution_count": 3,
   "metadata": {},
   "outputs": [
    {
     "name": "stdout",
     "output_type": "stream",
     "text": [
      "enter a number 5\n",
      "positive\n"
     ]
    }
   ],
   "source": [
    "# To check wheather given number is positive number or negative number?\n",
    "n1=int(input('enter a number '))\n",
    "def pos_neg(n1):\n",
    "    if(n1>=0):\n",
    "        print('positive')\n",
    "    else:\n",
    "        print('negative')\n",
    "pos_neg(n1)"
   ]
  },
  {
   "cell_type": "code",
   "execution_count": 15,
   "metadata": {},
   "outputs": [
    {
     "name": "stdout",
     "output_type": "stream",
     "text": [
      "enter a number 5\n",
      "False\n"
     ]
    }
   ],
   "source": [
    "# To check wheather given number is even number or not?\n",
    "n1=int(input('enter a number '))\n",
    "def even_odd(n1):\n",
    "    if(n1%2==0):\n",
    "        return True\n",
    "    else:\n",
    "        return False\n",
    "\n",
    "rs=even_odd(n1)\n",
    "print(rs)"
   ]
  },
  {
   "cell_type": "code",
   "execution_count": 14,
   "metadata": {},
   "outputs": [
    {
     "name": "stdout",
     "output_type": "stream",
     "text": [
      "enter a number 2002\n",
      "False\n"
     ]
    }
   ],
   "source": [
    "# To check wheather given year is leap year or not?\n",
    "n1=int(input('enter a number '))\n",
    "def isleap(n1):\n",
    "    if(n1%4==0):\n",
    "        return True\n",
    "    else:\n",
    "        return False\n",
    "\n",
    "rs=isleap(n1)\n",
    "print(rs)"
   ]
  },
  {
   "cell_type": "code",
   "execution_count": 16,
   "metadata": {},
   "outputs": [
    {
     "name": "stdout",
     "output_type": "stream",
     "text": [
      "c\n",
      "True\n"
     ]
    }
   ],
   "source": [
    "# To check wheather given character is vowel or consonant?\n",
    "def vowel(str):\n",
    "    if(str=='a'or 'e' or 'i' or 'o' or 'u' or 'A' or 'E' or 'I' or 'U' or 'O'):\n",
    "        return True\n",
    "    else:\n",
    "        return False\n",
    "\n",
    "cha=input()\n",
    "print(vowel(str))"
   ]
  },
  {
   "cell_type": "code",
   "execution_count": 17,
   "metadata": {},
   "outputs": [
    {
     "name": "stdout",
     "output_type": "stream",
     "text": [
      "enter a number 5\n",
      "enter another number 5\n",
      "equal\n"
     ]
    }
   ],
   "source": [
    "# To check wheather given two values are eqaul or not?\n",
    "n1=int(input('enter a number '))\n",
    "n2=int(input('enter another number '))\n",
    "def equal(n1,n2):\n",
    "    if(n1==n2):\n",
    "        print('equal')\n",
    "    else:\n",
    "        print('Not equal')\n",
    "equal(n1,n2)"
   ]
  },
  {
   "cell_type": "code",
   "execution_count": 18,
   "metadata": {},
   "outputs": [
    {
     "name": "stdout",
     "output_type": "stream",
     "text": [
      "enter a number 4\n",
      "enter another number 5\n",
      "5 is big\n"
     ]
    }
   ],
   "source": [
    "# To find biggest of two numbers?\n",
    "n1=int(input('enter a number '))\n",
    "n2=int(input('enter another number '))\n",
    "def big(n1,n2):\n",
    "    if(n1>n2):\n",
    "        print(n1,'is big')\n",
    "    else:\n",
    "        print(n2,'is big')\n",
    "big(n1,n2)"
   ]
  },
  {
   "cell_type": "code",
   "execution_count": 22,
   "metadata": {},
   "outputs": [
    {
     "name": "stdout",
     "output_type": "stream",
     "text": [
      "enter a number 45\n",
      "enter second number -4654\n",
      "enter third number4\n",
      "45 is big\n"
     ]
    }
   ],
   "source": [
    "# To find the biggest of three numbers?\n",
    "n1=int(input('enter a number '))\n",
    "n2=int(input('enter second number '))\n",
    "n3=int(input('enter third number'))\n",
    "def big3(n1,n2,n3):\n",
    "    if(n1>n2):\n",
    "        if(n1>n3):\n",
    "            print(n1,'is big')\n",
    "        else:\n",
    "            print(n3,'is big')\n",
    "    elif(n2>n3):\n",
    "            print(n2,'is big')\n",
    "    else:\n",
    "        print(n3,'is big')\n",
    "big3(n1,n2,n3)"
   ]
  },
  {
   "cell_type": "code",
   "execution_count": 22,
   "metadata": {},
   "outputs": [
    {
     "name": "stdout",
     "output_type": "stream",
     "text": [
      "Enter student marks95\n",
      "A+\n"
     ]
    }
   ],
   "source": [
    "# To calculate the student grading system?\n",
    "n=int(input('Enter student marks'))\n",
    "def stugrade(num):\n",
    "    if(num>0 and num<25):\n",
    "        print('D')\n",
    "    elif(num>25 and num<=60):\n",
    "        print('C')\n",
    "    elif(num>60 and num<=80):\n",
    "        print('B')\n",
    "    elif(num>80 and num<=90):\n",
    "        print('A')\n",
    "    elif(num>90 and num<=100):\n",
    "        print('A+')\n",
    "    else:\n",
    "        print('Enter correct marks')\n",
    "stugrade(n)"
   ]
  },
  {
   "cell_type": "code",
   "execution_count": 19,
   "metadata": {},
   "outputs": [
    {
     "name": "stdout",
     "output_type": "stream",
     "text": [
      "Enter n value 5\n",
      "1,2,3,4,5,"
     ]
    }
   ],
   "source": [
    "# To print the 1 to n natural numbers in increment order?\n",
    "n=int(input('Enter n value '))\n",
    "def nnum1(n):\n",
    "    for i in range(1,n+1):\n",
    "        print(i,end=',')\n",
    "        \n",
    "nnum1(n)"
   ]
  },
  {
   "cell_type": "code",
   "execution_count": 31,
   "metadata": {},
   "outputs": [
    {
     "name": "stdout",
     "output_type": "stream",
     "text": [
      "Enter n value 15\n",
      "15,14,13,12,11,10,9,8,7,6,5,4,3,2,1,"
     ]
    }
   ],
   "source": [
    "# To print the 1 to n natural numbers in decrement orde\n",
    "n=int(input('Enter n value '))\n",
    "def nnum1(n):\n",
    "    for i in range(n,0,-1):\n",
    "        print(i,end=',')\n",
    "        \n",
    "nnum1(n)"
   ]
  },
  {
   "cell_type": "code",
   "execution_count": 1,
   "metadata": {},
   "outputs": [
    {
     "name": "stdout",
     "output_type": "stream",
     "text": [
      "Enter n value to print sum of n natural number 10\n",
      "55\n"
     ]
    }
   ],
   "source": [
    "# To print the sum of 1 to n natural numbers?\n",
    "def sumOfnnaturalNums(n):\n",
    "    sum=0\n",
    "    for i in range(1,n+1):\n",
    "        sum+=i\n",
    "    return sum \n",
    "\n",
    "num=int(input('Enter n value to print sum of n natural number '))\n",
    "rs=sumOfnnaturalNums(num)\n",
    "print(rs)"
   ]
  },
  {
   "cell_type": "code",
   "execution_count": 5,
   "metadata": {},
   "outputs": [
    {
     "name": "stdout",
     "output_type": "stream",
     "text": [
      "Enter n value 45\n",
      "2,4,6,8,10,12,14,16,18,20,22,24,26,28,30,32,34,36,38,40,42,44,None\n"
     ]
    }
   ],
   "source": [
    "# To print the even numbers between 1 to n natural numbers?\n",
    "def even1ton(n):\n",
    "    for i in range(2,n+1,2):\n",
    "        print(i,end=',')\n",
    "\n",
    "num=int(input('Enter n value '))\n",
    "rs=even1ton(num)\n",
    "print(rs)"
   ]
  },
  {
   "cell_type": "code",
   "execution_count": 7,
   "metadata": {},
   "outputs": [
    {
     "name": "stdout",
     "output_type": "stream",
     "text": [
      "Enter n value 55\n",
      "1,3,5,7,9,11,13,15,17,19,21,23,25,27,29,31,33,35,37,39,41,43,45,47,49,51,53,55,None\n"
     ]
    }
   ],
   "source": [
    "# To print the odd numbers between 1 to n natural numbers?\n",
    "def odd1ton(n):\n",
    "    for i in range(1,n+1,2):\n",
    "        print(i,end=',')\n",
    "\n",
    "num=int(input('Enter n value '))\n",
    "rs=odd1ton(num)\n",
    "print(rs)"
   ]
  },
  {
   "cell_type": "code",
   "execution_count": 16,
   "metadata": {},
   "outputs": [
    {
     "name": "stdout",
     "output_type": "stream",
     "text": [
      "Enter n value 5\n",
      "6\n",
      "None\n"
     ]
    }
   ],
   "source": [
    "# To print the sum of even natural numbers?\n",
    "def sumofeven(n):\n",
    "    su=0\n",
    "    for i in range(2,n+1,2):\n",
    "        su=su+i\n",
    "    print(su)\n",
    "\n",
    "num=int(input('Enter n value '))\n",
    "rs=sumofeven(num)\n",
    "print(rs)"
   ]
  },
  {
   "cell_type": "code",
   "execution_count": 17,
   "metadata": {},
   "outputs": [
    {
     "name": "stdout",
     "output_type": "stream",
     "text": [
      "Enter n value 10\n",
      "25\n",
      "None\n"
     ]
    }
   ],
   "source": [
    "# To print the sum of odd natural numbers?\n",
    "def sumofodd(n):\n",
    "    su=0\n",
    "    for i in range(1,n+1,2):\n",
    "        su=su+i\n",
    "    print(su)\n",
    "\n",
    "num=int(input('Enter n value '))\n",
    "rs=sumofodd(num)\n",
    "print(rs)"
   ]
  },
  {
   "cell_type": "code",
   "execution_count": 8,
   "metadata": {},
   "outputs": [
    {
     "name": "stdout",
     "output_type": "stream",
     "text": [
      "5\n",
      "120\n"
     ]
    }
   ],
   "source": [
    "def productOfnnaturalNums(n):\n",
    "    sum=1\n",
    "    for i in range(1,n+1):\n",
    "        sum*=i\n",
    "    return sum \n",
    "\n",
    "num=int(input())\n",
    "rs=productOfnnaturalNums(num)\n",
    "print(rs)"
   ]
  },
  {
   "cell_type": "code",
   "execution_count": 18,
   "metadata": {},
   "outputs": [
    {
     "name": "stdout",
     "output_type": "stream",
     "text": [
      "2000\n"
     ]
    },
    {
     "data": {
      "text/plain": [
       "True"
      ]
     },
     "execution_count": 18,
     "metadata": {},
     "output_type": "execute_result"
    }
   ],
   "source": [
    "def leapYear(n1):\n",
    "    if(n1%4==0):\n",
    "        return True\n",
    "    else:\n",
    "        return False\n",
    "    \n",
    "\n",
    "n=int(input())\n",
    "leapYear(n)"
   ]
  },
  {
   "cell_type": "code",
   "execution_count": 6,
   "metadata": {},
   "outputs": [
    {
     "name": "stdout",
     "output_type": "stream",
     "text": [
      "ae\n",
      "True\n"
     ]
    }
   ],
   "source": []
  },
  {
   "cell_type": "code",
   "execution_count": 7,
   "metadata": {},
   "outputs": [
    {
     "name": "stdout",
     "output_type": "stream",
     "text": [
      "a\n",
      "vowel\n"
     ]
    }
   ],
   "source": [
    "li=['e','a','i','o','u',\"A\",\"E\",\"I\",\"O\",\"U\"]\n",
    "cha=input()\n",
    "if(cha in li):\n",
    "    print('vowel')\n",
    "else:\n",
    "    print('constant')"
   ]
  },
  {
   "cell_type": "code",
   "execution_count": 10,
   "metadata": {},
   "outputs": [
    {
     "name": "stdout",
     "output_type": "stream",
     "text": [
      "a\n"
     ]
    },
    {
     "data": {
      "text/plain": [
       "True"
      ]
     },
     "execution_count": 10,
     "metadata": {},
     "output_type": "execute_result"
    }
   ],
   "source": [
    "li=['e','a','i','o','u',\"A\",\"E\",\"I\",\"O\",\"U\"]\n",
    "def vow(st):\n",
    "    if(cha in li):\n",
    "        return True\n",
    "    else:\n",
    "        return False\n",
    "\n",
    "cha=input()\n",
    "vow(cha)"
   ]
  },
  {
   "cell_type": "code",
   "execution_count": null,
   "metadata": {},
   "outputs": [],
   "source": []
  }
 ],
 "metadata": {
  "kernelspec": {
   "display_name": "Python 3",
   "language": "python",
   "name": "python3"
  },
  "language_info": {
   "codemirror_mode": {
    "name": "ipython",
    "version": 3
   },
   "file_extension": ".py",
   "mimetype": "text/x-python",
   "name": "python",
   "nbconvert_exporter": "python",
   "pygments_lexer": "ipython3",
   "version": "3.7.4"
  }
 },
 "nbformat": 4,
 "nbformat_minor": 4
}
